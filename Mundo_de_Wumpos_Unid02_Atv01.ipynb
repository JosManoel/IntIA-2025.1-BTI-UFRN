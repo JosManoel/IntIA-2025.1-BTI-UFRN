{
  "nbformat": 4,
  "nbformat_minor": 0,
  "metadata": {
    "colab": {
      "provenance": [],
      "authorship_tag": "ABX9TyPgGv8x2fSYFziqxmP0bN8i",
      "include_colab_link": true
    },
    "kernelspec": {
      "name": "python3",
      "display_name": "Python 3"
    },
    "language_info": {
      "name": "python"
    }
  },
  "cells": [
    {
      "cell_type": "markdown",
      "metadata": {
        "id": "view-in-github",
        "colab_type": "text"
      },
      "source": [
        "<a href=\"https://colab.research.google.com/github/JosManoel/IntIA-2025.1-BTI-UFRN/blob/main/Mundo_de_Wumpos_Unid02_Atv01.ipynb\" target=\"_parent\"><img src=\"https://colab.research.google.com/assets/colab-badge.svg\" alt=\"Open In Colab\"/></a>"
      ]
    },
    {
      "cell_type": "markdown",
      "source": [
        "# Introdução a Inteligência Artificial IMD3001\n",
        "\n",
        "**Atividade 01 - Unidade 02**\n",
        "\n",
        "José Manoel Freitas da Silva\n",
        "\n",
        "***\n"
      ],
      "metadata": {
        "id": "vGNBkFOT-87W"
      }
    },
    {
      "cell_type": "markdown",
      "source": [
        "## 1. Breve introdução\n",
        "\n",
        "A atividade a seguir consiste na implementação de um agente explorador do Mundo de Wumpus, considerando um cenário de tamanho 4x4, onde o objetivo principal é chegar até o ouro dentro da caverna sem cair em um poço ou ser atacado pelo Campus.\n",
        "\n",
        "Para isso, o agente de IA deverá percorrer toda a caverna utilizando **lógica de primeira ordem** para determinar qual casa será mais segura para seguir. Nessa atividade, também será utilizado um algorítimo _**A* (A Estrela)**_ para a movimentação, com uma implementação simples do cálculo de distância de Manhattan para estimativa de custo.\n",
        "\n",
        "A escolha de cada uma dessas abordagens se deu pela facilidade de implementação e pela utilização em atividades anteriores."
      ],
      "metadata": {
        "id": "7hRLJDh-Jr7v"
      }
    },
    {
      "cell_type": "markdown",
      "source": [
        "##2. Definições iniciais\n",
        "\n",
        "Para a implementação e utilização da **lógica de primeira ordem** com python será utilizada a biblioteca PyDatalog, que cria uma sintaxe semelhante a uma linguagem Prolog-like, com lógica declarativa. Essa biblioteca atualmente não recebe mais atualizações e não deve ser utilizada em ambientes reais.\n",
        "\n",
        "* [PyDatalog Repo](https://github.com/pcarbonn/pyDatalog)"
      ],
      "metadata": {
        "id": "O1WmGNDaKLVk"
      }
    },
    {
      "cell_type": "code",
      "source": [
        "!pip install pyDatalog"
      ],
      "metadata": {
        "colab": {
          "base_uri": "https://localhost:8080/"
        },
        "id": "ZeCcsBEYZO2e",
        "outputId": "2b9aba3d-78a1-414a-8694-e447478be3ed",
        "collapsed": true
      },
      "execution_count": 99,
      "outputs": [
        {
          "output_type": "stream",
          "name": "stdout",
          "text": [
            "Requirement already satisfied: pyDatalog in /usr/local/lib/python3.11/dist-packages (0.17.4)\n"
          ]
        }
      ]
    },
    {
      "cell_type": "code",
      "source": [
        "import heapq                                               # Importa a biblioteca da pilha\n",
        "import math                                                # Importa biblioteca de funcoes matematicas\n",
        "from pyDatalog import pyDatalog                            # Importa biblioteca de lógica de primeira ordem"
      ],
      "metadata": {
        "id": "Ii9qXsj3L5Gu"
      },
      "execution_count": 100,
      "outputs": []
    },
    {
      "cell_type": "markdown",
      "source": [
        "###2.1 Definindo o ambiente\n",
        "\n",
        "O ambiente do mundo de Wumpus, para esse trabalho, será reduzido e limitado a um terreno de 4x4 blocos, sendo o bloco inicial **(1x1)** um local tido sempre como seguro e utilizado pelo agente para iniciar o jogo.\n",
        "\n",
        "Os mapas são definidos em matrizes de caracteres, denominados pela tabela a seguir:\n",
        "\n",
        "| Sigla | Descrição |\n",
        "|---|---|\n",
        "|'B'| 'Brisa'|\n",
        "|'O'| 'Ouro'|\n",
        "|'Br'| 'Brilho'|\n",
        "|'P'| 'Poço'|\n",
        "|'F'| 'Fedor'|\n",
        "|'W'| 'Wumpus' |"
      ],
      "metadata": {
        "id": "qYOcSuVzZjQC"
      }
    },
    {
      "cell_type": "code",
      "source": [
        "# Definindo mapas\n",
        "\n",
        "# Ouro acessivel\n",
        "mundo_1 = [\n",
        "    [[]   , ['B']          , ['P'], ['B']],\n",
        "    [['F'], ['Br']         , ['B'], []],\n",
        "    [['W'], ['O', 'F', 'B'], ['P'], ['B']],\n",
        "    [['F'], ['Br']         , ['B'], ['P']]\n",
        "]\n",
        "\n",
        "# Ouro de dificil acesso\n",
        "mundo_2 = [\n",
        "    [[]   , ['B']           , ['P']      , ['B']],\n",
        "    [[]   , ['B']           , ['B']      , ['B']],\n",
        "    [['F'], ['P']           , ['B', 'Br'], ['P']],\n",
        "    [['W'], ['F', 'B', 'Br'], ['O']      , ['P']]\n",
        "]\n",
        "\n",
        "# Ouro acessivel\n",
        "mundo_3 = [\n",
        "    [[]   , []   , ['B'] , ['P']],\n",
        "    [['F'], []   , ['B'] , ['P']],\n",
        "    [['W'], ['F'], []    , ['Br', 'B']],\n",
        "    [['P'], ['B'], ['Br'], ['O']]\n",
        "]\n",
        "\n",
        "# Impossivel\n",
        "mundo_4 = [\n",
        "    [[]   , []        , ['B'] , ['P']],\n",
        "    [['B'], []        , ['B'] , ['P']],\n",
        "    [['P'], ['B']     , ['P'] , ['B', 'Br']],\n",
        "    [['W'], ['F', 'B'], ['P'], ['O']]\n",
        "]\n"
      ],
      "metadata": {
        "id": "_MsfDlJXa-eg"
      },
      "execution_count": 101,
      "outputs": []
    },
    {
      "cell_type": "code",
      "source": [
        "# Define o mapa atual\n",
        "current_map = mundo_2"
      ],
      "metadata": {
        "id": "kW7R9_XiXpp-"
      },
      "execution_count": 102,
      "outputs": []
    },
    {
      "cell_type": "code",
      "source": [
        "# Legenda para referência\n",
        "legendas_mapa = {\n",
        "    'B': 'Brisa',\n",
        "    'O': 'Ouro',\n",
        "    'Br': 'Brilho',\n",
        "    'P': 'Poço',\n",
        "    'F': 'Fedor',\n",
        "    'W': 'Wumpus'\n",
        "}"
      ],
      "metadata": {
        "id": "b4xZhjzVdL47"
      },
      "execution_count": 103,
      "outputs": []
    },
    {
      "cell_type": "code",
      "source": [
        "mapa_custos = {\n",
        "    'P': float('inf'),   # Poço - morte\n",
        "    'W': float('inf'),   # Wumpus - morte\n",
        "    'F': 5,              # Fedor - Perigo\n",
        "    'B': 5,              # Brisa - Perigo\n",
        "}\n"
      ],
      "metadata": {
        "id": "ShVvj0XXD8YN"
      },
      "execution_count": 104,
      "outputs": []
    },
    {
      "cell_type": "markdown",
      "source": [
        "## 3 Definição do agente de IA\n",
        "\n",
        "O agente de IA será implementado utilizando **Lógica de Primeira Ordem** com python e pyDalog seguindo a estratégia a seguir:\n",
        "\n",
        "> **1º Passo:** Se localiza no mundo;\n",
        "\n",
        "> **2º Passo:** Identifica os blocos vizinhos;\n",
        "\n",
        "> **3º Passo:** Analisa os dados dos blocos vizinhos e do bloco atual;\n",
        "\n",
        "> **4º Passo:** Infere posições dos poços e do Wumpus;\n",
        "\n",
        "> **5º Passo:** Pontua as casas vizinhas com base em suas informações;\n",
        "\n",
        "> **6º Passo:** Vai até a casa de menor custo;\n",
        "\n",
        "> **7º Passo:** Repete os passos anteriores até encontrar o ouro.\n",
        "\n",
        "*Inicialmente, para cada novo mundo, deve-se limpar o cache do pyDatalog para eliminar os dados anteriores."
      ],
      "metadata": {
        "id": "V1wrFfRpOeLV"
      }
    },
    {
      "cell_type": "code",
      "source": [
        "# Limpa o cache do pyDatalog\n",
        "pyDatalog.clear()"
      ],
      "metadata": {
        "id": "3eSnZdSgUJ5L"
      },
      "execution_count": 105,
      "outputs": []
    },
    {
      "cell_type": "markdown",
      "source": [
        "###3.1 Definindo variáveis do ambiente\n",
        "\n"
      ],
      "metadata": {
        "id": "PKpLuk9oUVPM"
      }
    },
    {
      "cell_type": "code",
      "source": [
        "# Define termos do agete\n",
        "pyDatalog.create_terms('agente, current_pos_agente, agente_visited, caminho_seguro')\n",
        "\n",
        "# Define sensores do agente\n",
        "pyDatalog.create_terms('sensor_brisa, sensor_fedor, sensor_brilho, sensor_morte')"
      ],
      "metadata": {
        "id": "eBJglLEUMs8D"
      },
      "execution_count": 106,
      "outputs": []
    },
    {
      "cell_type": "code",
      "source": [
        "# Define termos de elementos do mundo\n",
        "pyDatalog.create_terms('wumpus, ouro, poco')"
      ],
      "metadata": {
        "id": "4m2cwj12qMQt"
      },
      "execution_count": 107,
      "outputs": []
    },
    {
      "cell_type": "code",
      "source": [
        "# Define termos auxiliares\n",
        "pyDatalog.create_terms('x, y, x1, y1, adjacencia')"
      ],
      "metadata": {
        "id": "5uSf6EmTzR2S"
      },
      "execution_count": 108,
      "outputs": []
    },
    {
      "cell_type": "markdown",
      "source": [
        "###3.2 Determinando fatos do ambiente"
      ],
      "metadata": {
        "id": "vCpYZnNmriIn"
      }
    },
    {
      "cell_type": "code",
      "source": [
        "# Determinando inicio do agente\n",
        "_init_agente_pos = (0,0)\n",
        "\n",
        "+ current_pos_agente(tuple(_init_agente_pos))\n",
        "+ agente_visited(tuple(_init_agente_pos))"
      ],
      "metadata": {
        "id": "zDvTIBbYxf2x"
      },
      "execution_count": 109,
      "outputs": []
    },
    {
      "cell_type": "markdown",
      "source": [
        "###3.3 Regras de Percepção e inferência"
      ],
      "metadata": {
        "id": "lBNvO0dZ4l1a"
      }
    },
    {
      "cell_type": "code",
      "source": [
        "# Regras de adjacência do mundo\n",
        "adjacencia((x, y),(x1, y1)) <= (((x1 == x + 1) & (x1 >= 0) & (x1 <= len(current_map))) & (y1 == y)) # bloco a direta\n",
        "adjacencia((x, y),(x1, y1)) <= (((x1 == x - 1) & (x1 >= 0) & (x1 <= len(current_map))) & (y1 == y)) # bloco a esquerda\n",
        "adjacencia((x, y),(x1, y1)) <= (((y1 == y + 1) & (y1 >= 0) & (y1 <= len(current_map[0]))) & (x1 == x)) # bloco acima\n",
        "adjacencia((x, y),(x1, y1)) <= (((y1 == y - 1) & (y1 >= 0) & (y1 <= len(current_map[0]))) & (x1 == x)) # bloco abaixo\n"
      ],
      "metadata": {
        "colab": {
          "base_uri": "https://localhost:8080/"
        },
        "id": "4JfQwm7b44Nf",
        "outputId": "1e065baa-d5a8-474b-e227-872a505a21cd"
      },
      "execution_count": 110,
      "outputs": [
        {
          "output_type": "execute_result",
          "data": {
            "text/plain": [
              "adjacencia('['x', 'y']','['x1', 'y1']') <= ==('y1'"
            ]
          },
          "metadata": {},
          "execution_count": 110
        }
      ]
    },
    {
      "cell_type": "code",
      "source": [
        "# Se ha brisa em bloco(x,y) e bloco(x,y) tem adjacente bloco(x1,y1), entao bloco(x1,y1) pode ter um poco\n",
        "poco(x1, y1) <= sensor_brisa(x, y) & adjacencia((x, y),(x1, y1))\n",
        "\n",
        "# Se ha fedor em bloco(x,y) e bloco(x,y) tem adjacente bloco(x1,y1), entao bloco(x1,y1) pode ter o wumpus\n",
        "wumpus(x1, y1) <= sensor_fedor(x, y) & adjacencia((x, y),(x1, y1))\n",
        "\n",
        "# Se em bloco(x,y) nao ha fedor nem brisa e tem adjacente bloco(x1,y1) entao bloco(x1,y1) e seguro\n",
        "caminho_seguro(x1, y1) <= ((~sensor_brisa(x, y)) & (~sensor_fedor(x, y))) & adjacencia((x, y),(x1, y1))\n",
        "\n",
        "# Se um bloco possui um poco ou um wumpus, entao ele não é seguro\n",
        "caminho_seguro(x, y) <= ~poco(x, y) & ~wumpus(x, y)\n",
        "\n",
        "# Se ha brilho em bloco(x,y) e bloco(x,y) tem adjacente bloco(x1,y1), entao bloco(x1,y1) pode ter ouro\n",
        "ouro(x1, y1) <= sensor_brilho(x, y) & adjacencia((x, y),(x1, y1))\n",
        "\n",
        "# Se o agente caiu em uma casa com o Wumpus, então ele morreu\n",
        "sensor_morte(x, y) <= wumpus(x, y)\n",
        "\n",
        "# Se o agente caiu e uma casa com um poco, entao ele morreu\n",
        "sensor_morte(x, y) <= poco(x, y)"
      ],
      "metadata": {
        "colab": {
          "base_uri": "https://localhost:8080/"
        },
        "id": "UaPa8JGeA9Wd",
        "outputId": "1b8b9b43-4d26-4e4c-880c-ef5709782d2f"
      },
      "execution_count": 111,
      "outputs": [
        {
          "output_type": "execute_result",
          "data": {
            "text/plain": [
              "sensor_morte('x','y') <= poco('x','y')"
            ]
          },
          "metadata": {},
          "execution_count": 111
        }
      ]
    },
    {
      "cell_type": "markdown",
      "source": [
        "##4 Implementação do agente\n",
        "\n",
        "A seguir temos a implementação do agente de IA e das funções auxiliares. O algoritmo **A*** foi retirado da atividade anterior sobre algoritmos de busca e adaptado ao contexto atual. Sua implementação original pode ser encontrada no link a seguir:\n",
        "\n",
        "[Exercício 2 - 1º Unidade](https://colab.research.google.com/drive/1mWl6cITxu3reCxfM5cMvllU8sKVdfJwZ?usp=sharing#scrollTo=Aop-8K0Ajgnj)"
      ],
      "metadata": {
        "id": "4jZjognsllMA"
      }
    },
    {
      "cell_type": "markdown",
      "source": [
        "###4.1 Funções auxiliares\n"
      ],
      "metadata": {
        "id": "gnWSvXJZdXdM"
      }
    },
    {
      "cell_type": "code",
      "source": [
        "def valid_pos_check(pos, map):\n",
        "  \"\"\" Verifica se a posicao de pos[0]/pos[1] (x/y) esta dentro do mapa \"\"\"\n",
        "  return ((pos[0] >= 0) and (pos[0] < len(map))) and ((pos[1] >= 0) and (pos[1] < len(map[0])))"
      ],
      "metadata": {
        "id": "QYZCZ1fBd9I2"
      },
      "execution_count": 112,
      "outputs": []
    },
    {
      "cell_type": "code",
      "source": [
        "def _get_cell_content(pos, map):\n",
        "  \"\"\" Retorna o conteudo da celula pos[0]/pos[1] (x/y) e sua descricao\"\"\"\n",
        "  if valid_pos_check(pos, map):\n",
        "    return [map[pos[0]][pos[1]], legendas_mapa[map[pos[0]][pos[1]]]]\n",
        "  else:\n",
        "    return None"
      ],
      "metadata": {
        "id": "3EbGoeA1eT3r"
      },
      "execution_count": 113,
      "outputs": []
    },
    {
      "cell_type": "code",
      "source": [
        "def get_neighbors(pos, map):\n",
        "  \"\"\" Retorna as posições adjacentes validas a posicao do agente\"\"\"\n",
        "  moves = [(-1,0), (1,0), (0,-1), (0,1)]\n",
        "  result = []\n",
        "\n",
        "  for dx, dy in moves:\n",
        "    new_pos = [pos[0] + dx, pos[1] + dy]\n",
        "    if valid_pos_check(new_pos, map):\n",
        "            result.append(new_pos)\n",
        "  return result"
      ],
      "metadata": {
        "id": "ecK1DBf0gR2L"
      },
      "execution_count": 114,
      "outputs": []
    },
    {
      "cell_type": "code",
      "source": [
        "def get_possiveis_ouro():\n",
        "    \"\"\"Retorna uma lista de posições que podem conter ouro inferidas pela lógica\"\"\"\n",
        "    return [(int(x), int(y)) for x, y in ouro(x, y)]\n"
      ],
      "metadata": {
        "id": "oDzs2aGdWE2O"
      },
      "execution_count": 115,
      "outputs": []
    },
    {
      "cell_type": "code",
      "source": [
        "def heuristic_calc(a, b):\n",
        "  \"\"\" Calcula a distancia de Manhattan entre dois pontos [destino -> partida]\"\"\"\n",
        "  return abs(a[0] - b[0]) + abs(a[1] - b[1])"
      ],
      "metadata": {
        "id": "UjP3Pm50pBCn"
      },
      "execution_count": 116,
      "outputs": []
    },
    {
      "cell_type": "code",
      "source": [
        "def get_caminho(caminho_total, current_pos):\n",
        "  \"\"\" Retorna o caminho de volta do agente \"\"\"\n",
        "  temp_path = [current_pos]\n",
        "                                                    # lista temporaria dos pontos\n",
        "  while current_pos in caminho_total:\n",
        "    current_pos = caminho_total[current_pos]        # Recupera ponto anterior\n",
        "    temp_path.append(current_pos)                   # Adiciona a lista\n",
        "\n",
        "  return temp_path[::-1]                            # Inverte a lista"
      ],
      "metadata": {
        "id": "7ub-eN7aEDZ-"
      },
      "execution_count": 117,
      "outputs": []
    },
    {
      "cell_type": "code",
      "source": [
        "def calc_custo_bloco(pos, map, map_custos):\n",
        "    \"\"\" Calcula o custo total de um bloco com base no mapa de custo\"\"\"\n",
        "    _temp_bloc = map[pos[0]][pos[1]]\n",
        "    custo = 1  # custo padrão\n",
        "\n",
        "    for elemento in _temp_bloc:\n",
        "      custo += map_custos.get(elemento, 0)\n",
        "\n",
        "    return custo"
      ],
      "metadata": {
        "id": "glfNr5Zx_hO-"
      },
      "execution_count": 118,
      "outputs": []
    },
    {
      "cell_type": "code",
      "source": [
        "def update_sensors(pos, map):\n",
        "  \"\"\" Atualiza os sensores do agente com base na posição atual e no mapa \"\"\"\n",
        "  content = map[pos[0]][pos[1]]\n",
        "\n",
        "  sensores = {\n",
        "    'B': sensor_brisa,\n",
        "    'F': sensor_fedor,\n",
        "    'Br': sensor_brilho,\n",
        "    'P': sensor_morte,\n",
        "    'W': sensor_morte,\n",
        "  }\n",
        "\n",
        "  for elem, sensor in sensores.items():\n",
        "    if elem in content:\n",
        "      +sensor(pos[0], pos[1])\n"
      ],
      "metadata": {
        "id": "H59eYzSqXfdU"
      },
      "execution_count": 119,
      "outputs": []
    },
    {
      "cell_type": "code",
      "source": [
        "def print_mapa_ascii(map, trajeto):\n",
        "    \"\"\"Imprime o mapa com trajeto percorrido em ASCII\"\"\"\n",
        "\n",
        "    size_y = len(map)\n",
        "    size_x = len(map[0])\n",
        "\n",
        "    print(\"\\n ## Mapa explorado: ## \\n\")\n",
        "    for i in range(size_y):\n",
        "        linha_str = ''\n",
        "        for j in range(size_x):\n",
        "            pos = (i, j)\n",
        "\n",
        "            if pos in trajeto:\n",
        "                linha_str += ' *  '\n",
        "            elif 'P' in map[i][j]:\n",
        "                linha_str += ' P  '\n",
        "            elif 'W' in map[i][j]:\n",
        "                linha_str += ' W  '\n",
        "            else:\n",
        "                linha_str += ' .  '\n",
        "        print(linha_str)\n",
        "    print()\n"
      ],
      "metadata": {
        "id": "vVgzQ64XADmq"
      },
      "execution_count": 120,
      "outputs": []
    },
    {
      "cell_type": "markdown",
      "source": [
        "###4.2 Implementação do Algoritmo A*"
      ],
      "metadata": {
        "id": "k83Xd_kjF1NN"
      }
    },
    {
      "cell_type": "code",
      "source": [
        "def a_star(start, map_custos, map):\n",
        "  \"\"\" Implementa o algoritmo A* para encontrar o caminho ate o objetivo\"\"\"\n",
        "  open_set = [(0, tuple(start))]\n",
        "\n",
        "  caminho_total = {}                                # Dicionário para rastrear o caminho\n",
        "  custo_total = {tuple(start): 0}                   # Custo do início até cada bloco\n",
        "\n",
        "  # Inicializa os sensores\n",
        "  update_sensors(start, map)\n",
        "\n",
        "  while open_set:\n",
        "    _, current_pos = heapq.heappop(open_set)\n",
        "\n",
        "    # Atualiza os sensores\n",
        "    update_sensors(current_pos, map)\n",
        "\n",
        "    if 'O' in map[current_pos[0]][current_pos[1]]:\n",
        "      #Se chegou ao detino, tracar percurso\n",
        "      return get_caminho(caminho_total, tuple(current_pos))\n",
        "\n",
        "    if sensor_morte(current_pos[0], current_pos[1]):\n",
        "      #Se caiu num poco ou com o wumpus\n",
        "      return None\n",
        "\n",
        "    for neighbor in get_neighbors(current_pos, map):\n",
        "      _neighbor = tuple(neighbor)\n",
        "\n",
        "      neighbor_x, neighbor_y = _neighbor\n",
        "\n",
        "      # Evitando blocos com poco ou wumpus\n",
        "      if poco(neighbor_x, neighbor_y) or wumpus(neighbor_x, neighbor_y):\n",
        "        continue\n",
        "\n",
        "      # Calcula o custo total da caminhada considerando o proximo bloco vizinho\n",
        "      custo_to_neighbor = custo_total[current_pos] + calc_custo_bloco(_neighbor, map, map_custos)\n",
        "\n",
        "      if _neighbor not in custo_total or custo_to_neighbor < custo_total[_neighbor]:\n",
        "        caminho_total[_neighbor] = current_pos\n",
        "        custo_total[_neighbor] = custo_to_neighbor\n",
        "\n",
        "        custo_estm = custo_to_neighbor + heuristic_calc(_neighbor, current_pos)\n",
        "        heapq.heappush(open_set, (custo_estm, _neighbor))\n",
        "\n",
        "  return None  # Caminho não encontrado"
      ],
      "metadata": {
        "id": "O9DSNuciLrL9"
      },
      "execution_count": 121,
      "outputs": []
    },
    {
      "cell_type": "markdown",
      "source": [
        "##5 Iniciando o agente"
      ],
      "metadata": {
        "id": "gJF87IUtr-j9"
      }
    },
    {
      "cell_type": "code",
      "source": [
        "# Caminho encontrado pelo A*\n",
        "trajeto_agente = a_star(_init_agente_pos, mapa_custos, current_map)\n",
        "\n",
        "if trajeto_agente:\n",
        "  for bloco in trajeto_agente[1:]:  # Ignora a posição inicial\n",
        "    # Atualiza posição do agente\n",
        "    +current_pos_agente(tuple(bloco))\n",
        "    +agente_visited(tuple(bloco))\n",
        "\n",
        "    print(f\"|*Indo para: {bloco}\")\n",
        "\n",
        "    # Verifica se morreu\n",
        "    if (sensor_morte(bloco[0], bloco[1])):\n",
        "      print(f\"Agente morreu na posição {bloco}!\")\n",
        "      break\n",
        "\n",
        "    if 'O' in current_map[bloco[0]][bloco[1]]:\n",
        "      print(f\"|--> Ouro encontrado em {bloco}!\")\n",
        "      break\n",
        "\n",
        "  print_mapa_ascii(current_map, trajeto_agente)\n",
        "\n",
        "else:\n",
        "    print(\"Não há caminho seguro até o ouro!\")\n"
      ],
      "metadata": {
        "colab": {
          "base_uri": "https://localhost:8080/"
        },
        "id": "IRk19yp5ZUgx",
        "outputId": "4ae0cc3a-02f3-461f-d4c7-e9b999adbe62"
      },
      "execution_count": 125,
      "outputs": [
        {
          "output_type": "stream",
          "name": "stdout",
          "text": [
            "|*Indo para: (1, 0)\n",
            "|*Indo para: (1, 1)\n",
            "|*Indo para: (1, 2)\n",
            "|*Indo para: (2, 2)\n",
            "|*Indo para: (3, 2)\n",
            "|--> Ouro encontrado em (3, 2)!\n",
            "\n",
            " ## Mapa explorado: ## \n",
            "\n",
            " *   .   P   .  \n",
            " *   *   *   .  \n",
            " .   P   *   P  \n",
            " W   .   *   P  \n",
            "\n"
          ]
        }
      ]
    },
    {
      "cell_type": "markdown",
      "source": [
        "# 6 Referências:\n",
        "\n",
        "Os seguintes projetos e artigos a seguir foram utilizados como referência para a implementação do projeto:\n",
        "\n",
        "* [Atividade 2 da 1º Unidade](https://colab.research.google.com/drive/1mWl6cITxu3reCxfM5cMvllU8sKVdfJwZ?usp=sharing#scrollTo=Xf34zshuj9pQ)\n",
        "* [LifeDocs - PyDatalog](https://blog.vishok.me/blog/app/pydatalog)\n",
        "* [PyDatalog - Tutorial](https://sites.google.com/site/pydatalog/Online-datalog-tutorial?authuser=0)\n",
        "* [Wumpus - PyDatalog](https://github.com/Kevin-Lev/Wumpus-pyDatalog)\n",
        "* [Algoritmo representando uma Lógica de Primeira Ordem em python](https://github.com/Daniel010203/Projeto-Algoritmos-Machine-Learning-IA/blob/main/Algoritmo%20representando%20uma%20L%C3%B3gica%20de%20Primeira%20Ordem%20em%20python.py)"
      ],
      "metadata": {
        "id": "xudVA9rx7tCI"
      }
    }
  ]
}