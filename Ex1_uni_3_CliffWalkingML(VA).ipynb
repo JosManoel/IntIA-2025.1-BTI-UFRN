{
  "cells": [
    {
      "cell_type": "markdown",
      "metadata": {
        "id": "view-in-github",
        "colab_type": "text"
      },
      "source": [
        "<a href=\"https://colab.research.google.com/github/JosManoel/IntIA-2025.1-BTI-UFRN/blob/main/Ex1_uni_3_CliffWalkingML(VA).ipynb\" target=\"_parent\"><img src=\"https://colab.research.google.com/assets/colab-badge.svg\" alt=\"Open In Colab\"/></a>"
      ]
    },
    {
      "cell_type": "markdown",
      "metadata": {
        "id": "PItmXNpQNVgD"
      },
      "source": [
        "# Q-Learning no Cliff Walking"
      ]
    },
    {
      "cell_type": "code",
      "execution_count": 31,
      "metadata": {
        "id": "CggdNKbwNRNJ"
      },
      "outputs": [],
      "source": [
        "# Instalação do Gymnasium:\n",
        "# Instala o pacote 'swig', que é necessário como dependência para compilar partes nativas\n",
        "# usadas pelo ambiente Box2D (motor de física 2D utilizado no Gymnasium).\n",
        "#!pip install swig\n",
        "\n",
        "# Instala o Gymnasium com suporte para ambientes baseados em Box2D,\n",
        "# como LunarLander, BipedalWalker, etc.\n",
        "# A opção [box2d] garante que as dependências específicas do Box2D sejam instaladas.\n",
        "#!pip install gymnasium[box2d]"
      ]
    },
    {
      "cell_type": "code",
      "execution_count": 32,
      "metadata": {
        "id": "7uEtqnc4Neyz"
      },
      "outputs": [],
      "source": [
        "# Importação das bibliotecas e configuração:\n",
        "import gymnasium as gym                      # Importa a biblioteca Gymnasium, usada para criar e interagir com ambientes de aprendizado por reforço\n",
        "import numpy as np                           # Importa o NumPy, biblioteca fundamental para operações numéricas e matrizes\n",
        "import matplotlib.pyplot as plt              # Importa o módulo 'pyplot' da biblioteca Matplotlib, usado para gerar gráficos\n",
        "from collections import defaultdict, deque          # Importa defaultdict, que permite criar dicionários com valores padrão automaticamente\n",
        "import time                                  # Importa a biblioteca padrão de controle de tempo (usada para pausas, medir duração, etc.)\n",
        "import imageio                               # Importa a biblioteca imageio, usada para ler e salvar arquivos de imagem ou vídeo (como GIFs)\n",
        "from IPython.display import display, Image   # Importa ferramentas do IPython para exibir imagens diretamente no notebook (usado no Colab)"
      ]
    },
    {
      "cell_type": "markdown",
      "metadata": {
        "id": "SIqamJWVO6Kf"
      },
      "source": [
        "# Criação do ambiente e inicialização da matriz Q"
      ]
    },
    {
      "cell_type": "code",
      "execution_count": 33,
      "metadata": {
        "id": "RbnuNLxINlIc"
      },
      "outputs": [],
      "source": [
        "# Cria o ambiente CliffWalking-v1 com renderização no modo \"rgb_array\",\n",
        "# o que permite capturar frames como imagens (usado para criar GIFs ou vídeos)\n",
        "env = gym.make(\"CliffWalking-v1\", render_mode=\"rgb_array\")\n",
        "\n",
        "# Obtém o número total de estados do ambiente.\n",
        "# No CliffWalking 4x12, temos 4 linhas × 12 colunas = 48 estados\n",
        "n_states = env.observation_space.n  # 48 estados (4x12 grid)\n",
        "\n",
        "# Obtém o número de ações possíveis.\n",
        "# Neste ambiente, as ações são: 0=cima, 1=direita, 2=baixo, 3=esquerda\n",
        "n_actions = env.action_space.n  # 4 ações\n",
        "\n",
        "# Função auxiliar que retorna um vetor de zeros com tamanho igual ao número de ações.\n",
        "# Usada para inicializar os valores de Q(s, a) com zero para cada ação.\n",
        "def zero_action_array():\n",
        "    return np.zeros(n_actions)\n",
        "\n",
        "# Cria a Q-table usando defaultdict.\n",
        "# Cada novo estado acessado receberá automaticamente um vetor de zeros como valor inicial.\n",
        "Q = defaultdict(zero_action_array)"
      ]
    },
    {
      "cell_type": "markdown",
      "metadata": {
        "id": "rVTHOagKPC9V"
      },
      "source": [
        "# Função de treinamento:"
      ]
    },
    {
      "cell_type": "code",
      "execution_count": 34,
      "metadata": {
        "id": "_DQsR7_ePCaw"
      },
      "outputs": [],
      "source": [
        "#  Função que executa o algoritmo de Q-learning em um ambiente discreto.\n",
        "#\n",
        "#  Parâmetros:\n",
        "#  - env: ambiente do Gymnasium.\n",
        "#  - Q: tabela Q (dicionário que armazena os valores Q para cada par estado-ação).\n",
        "#  - episodes: número total de episódios de treinamento.\n",
        "#  - alpha: taxa de aprendizado (o quanto o novo valor Q influencia no valor antigo).\n",
        "#  - gamma: fator de desconto (importância das recompensas futuras).\n",
        "#  - epsilon: probabilidade inicial de escolher uma ação aleatória (exploração).\n",
        "#  - epsilon_decay: taxa de redução do epsilon a cada episódio.\n",
        "#  - epsilon_min: valor mínimo de epsilon (mantém alguma exploração).\n",
        "#  - qty_show: intervalo de episódios para exibir a média de recompensas no console.\n",
        "#\n",
        "#  Retorna:\n",
        "#  - rewards: vetor com a recompensa total de cada episódio.\n",
        "#  - avg_rewards: vetor com a média das últimas 100 recompensas por episódio.\n",
        "\n",
        "def q_learning(env, Q, episodes=5000, alpha=0.1, gamma=0.99, epsilon=1.0,\n",
        "               epsilon_decay=0.995, epsilon_min=0.05, qty_show=100):\n",
        "\n",
        "    rewards = []                            # Lista que armazenará a recompensa total de cada episódio\n",
        "    avg_rewards = []                        # Lista com a média das últimas 100 recompensas\n",
        "    window = deque(maxlen=100)              # Fila circular para manter as últimas 100 recompensas\n",
        "\n",
        "    for episode in range(episodes):\n",
        "        state, _ = env.reset()              # Reinicia o ambiente e obtém o estado inicial\n",
        "        done = False                        # Variável de controle para saber quando o episódio termina\n",
        "        total_reward = 0                    # Acumula a recompensa obtida nesse episódio\n",
        "\n",
        "        while not done:\n",
        "            ##########################################################################\n",
        "            ##########################################################################\n",
        "            # Implementacao de algorimo guloso\n",
        "\n",
        "            # 1 - Escolher uma ação (exploração)\n",
        "            if np.random.rand() < epsilon:\n",
        "                action = env.action_space.sample() # Escolhe uma ação aleatória  ou\n",
        "            else:\n",
        "                action = np.argmax(Q[state])       # Escolhe a ação com maior valor Q\n",
        "\n",
        "            # 2 - Executar a ação e observar novo estado e recompensa\n",
        "            next_state, reward, terminated, truncated, _ = env.step(action)\n",
        "            done = terminated or truncated\n",
        "\n",
        "            # 3 - Atualizar a Q-table com a fórmula do Q-learning\n",
        "            best_next_action = np.argmax(Q[next_state])\n",
        "            td_target = reward + gamma * Q[next_state][best_next_action]\n",
        "            td_error = td_target - Q[state][action]\n",
        "            Q[state][action] += alpha * td_error\n",
        "\n",
        "            total_reward += reward          # Acumula a recompensa obtida neste passo\n",
        "            state = next_state              # Atualiza o estado para o próximo passo\n",
        "            ##########################################################################\n",
        "            ##########################################################################\n",
        "\n",
        "        # Aplica o decaimento do epsilon após cada episódio, mas mantém um mínimo\n",
        "        if epsilon > epsilon_min:\n",
        "            epsilon *= epsilon_decay\n",
        "\n",
        "        rewards.append(total_reward)        # Armazena a recompensa total desse episódio\n",
        "        window.append(total_reward)         # Adiciona na janela das últimas 100 recompensas\n",
        "        avg_rewards.append(np.mean(window)) # Calcula e armazena a média móvel\n",
        "\n",
        "        # Exibe a média das últimas 100 recompensas a cada 'qty_show' episódios\n",
        "        if episode % qty_show == 0:\n",
        "            print(f\"Episódio {episode}, média últimas 100: {np.mean(rewards[-100:]):.2f}\")\n",
        "\n",
        "    return rewards, avg_rewards             # Retorna os dados de desempenho do agente"
      ]
    },
    {
      "cell_type": "markdown",
      "metadata": {
        "id": "_6S7cMUnPM71"
      },
      "source": [
        "# Treinamento e Plotagem da recompensa:"
      ]
    },
    {
      "cell_type": "code",
      "execution_count": 35,
      "metadata": {
        "colab": {
          "base_uri": "https://localhost:8080/"
        },
        "id": "gc7_ZxMwOCI4",
        "outputId": "c3a175ea-0350-40c1-bfe0-65e651ce792a"
      },
      "outputs": [
        {
          "output_type": "stream",
          "name": "stdout",
          "text": [
            "Episódio 0, média últimas 100: -7686.00\n",
            "Episódio 1000, média últimas 100: -28.71\n",
            "Episódio 2000, média últimas 100: -23.28\n",
            "Episódio 3000, média últimas 100: -27.51\n",
            "Episódio 4000, média últimas 100: -26.27\n",
            "Episódio 5000, média últimas 100: -36.95\n",
            "Episódio 6000, média últimas 100: -26.31\n",
            "Episódio 7000, média últimas 100: -32.68\n",
            "Episódio 8000, média últimas 100: -27.66\n",
            "Episódio 9000, média últimas 100: -23.07\n",
            "Episódio 10000, média últimas 100: -32.74\n",
            "Episódio 11000, média últimas 100: -30.32\n",
            "Episódio 12000, média últimas 100: -27.70\n",
            "Episódio 13000, média últimas 100: -23.13\n",
            "Episódio 14000, média últimas 100: -32.60\n",
            "Episódio 15000, média últimas 100: -28.17\n",
            "Episódio 16000, média últimas 100: -30.71\n",
            "Episódio 17000, média últimas 100: -30.99\n",
            "Episódio 18000, média últimas 100: -28.57\n",
            "Episódio 19000, média últimas 100: -32.90\n",
            "Episódio 20000, média últimas 100: -26.34\n",
            "Episódio 21000, média últimas 100: -25.50\n",
            "Episódio 22000, média últimas 100: -27.62\n",
            "Episódio 23000, média últimas 100: -19.84\n",
            "Episódio 24000, média últimas 100: -26.36\n",
            "Episódio 25000, média últimas 100: -36.06\n",
            "Episódio 26000, média últimas 100: -32.75\n",
            "Episódio 27000, média últimas 100: -25.32\n",
            "Episódio 28000, média últimas 100: -30.59\n",
            "Episódio 29000, média últimas 100: -23.43\n",
            "Episódio 30000, média últimas 100: -37.89\n",
            "Episódio 31000, média últimas 100: -25.16\n",
            "Episódio 32000, média últimas 100: -22.19\n",
            "Episódio 33000, média últimas 100: -28.51\n",
            "Episódio 34000, média últimas 100: -25.35\n",
            "Episódio 35000, média últimas 100: -29.52\n",
            "Episódio 36000, média últimas 100: -36.96\n",
            "Episódio 37000, média últimas 100: -25.18\n",
            "Episódio 38000, média últimas 100: -27.71\n",
            "Episódio 39000, média últimas 100: -29.42\n",
            "Episódio 40000, média últimas 100: -26.63\n",
            "Episódio 41000, média últimas 100: -19.71\n",
            "Episódio 42000, média últimas 100: -31.62\n",
            "Episódio 43000, média últimas 100: -27.78\n",
            "Episódio 44000, média últimas 100: -30.70\n",
            "Episódio 45000, média últimas 100: -31.42\n",
            "Episódio 46000, média últimas 100: -25.29\n",
            "Episódio 47000, média últimas 100: -27.67\n",
            "Episódio 48000, média últimas 100: -34.84\n",
            "Episódio 49000, média últimas 100: -26.16\n",
            "Episódio 50000, média últimas 100: -24.17\n",
            "Episódio 51000, média últimas 100: -26.46\n",
            "Episódio 52000, média últimas 100: -28.35\n",
            "Episódio 53000, média últimas 100: -38.26\n",
            "Episódio 54000, média últimas 100: -24.32\n",
            "Episódio 55000, média últimas 100: -32.87\n",
            "Episódio 56000, média últimas 100: -26.33\n",
            "Episódio 57000, média últimas 100: -32.83\n",
            "Episódio 58000, média últimas 100: -25.41\n",
            "Episódio 59000, média últimas 100: -27.45\n",
            "Episódio 60000, média últimas 100: -30.57\n",
            "Episódio 61000, média últimas 100: -33.70\n",
            "Episódio 62000, média últimas 100: -27.50\n",
            "Episódio 63000, média últimas 100: -24.29\n",
            "Episódio 64000, média últimas 100: -29.87\n",
            "Episódio 65000, média últimas 100: -28.17\n",
            "Episódio 66000, média últimas 100: -26.31\n",
            "Episódio 67000, média últimas 100: -26.56\n",
            "Episódio 68000, média últimas 100: -32.61\n",
            "Episódio 69000, média últimas 100: -35.75\n",
            "Episódio 70000, média últimas 100: -22.11\n",
            "Episódio 71000, média últimas 100: -27.33\n",
            "Episódio 72000, média últimas 100: -30.57\n",
            "Episódio 73000, média últimas 100: -19.93\n",
            "Episódio 74000, média últimas 100: -27.64\n",
            "Episódio 75000, média últimas 100: -26.27\n",
            "Episódio 76000, média últimas 100: -28.58\n",
            "Episódio 77000, média últimas 100: -37.92\n",
            "Episódio 78000, média últimas 100: -33.86\n",
            "Episódio 79000, média últimas 100: -29.45\n",
            "Episódio 80000, média últimas 100: -24.17\n",
            "Episódio 81000, média últimas 100: -35.77\n",
            "Episódio 82000, média últimas 100: -30.31\n",
            "Episódio 83000, média últimas 100: -29.69\n",
            "Episódio 84000, média últimas 100: -23.03\n",
            "Episódio 85000, média últimas 100: -27.55\n",
            "Episódio 86000, média últimas 100: -31.74\n",
            "Episódio 87000, média últimas 100: -23.33\n",
            "Episódio 88000, média últimas 100: -28.42\n",
            "Episódio 89000, média últimas 100: -34.86\n",
            "Episódio 90000, média últimas 100: -29.68\n",
            "Episódio 91000, média últimas 100: -26.19\n",
            "Episódio 92000, média últimas 100: -19.91\n",
            "Episódio 93000, média últimas 100: -29.66\n",
            "Episódio 94000, média últimas 100: -31.84\n",
            "Episódio 95000, média últimas 100: -23.25\n",
            "Episódio 96000, média últimas 100: -29.74\n",
            "Episódio 97000, média últimas 100: -33.52\n",
            "Episódio 98000, média últimas 100: -31.48\n",
            "Episódio 99000, média últimas 100: -32.79\n"
          ]
        }
      ],
      "source": [
        "rewards, avg_rewards = q_learning(env, Q, episodes= 100000, qty_show=1000)      # Treina o agente"
      ]
    },
    {
      "cell_type": "code",
      "execution_count": 36,
      "metadata": {
        "colab": {
          "base_uri": "https://localhost:8080/",
          "height": 507
        },
        "id": "8bhmGZ39h_-k",
        "outputId": "e7eaba5a-5a15-479a-ce8a-08bc22db91ed"
      },
      "outputs": [
        {
          "output_type": "display_data",
          "data": {
            "text/plain": [
              "<Figure size 1000x500 with 1 Axes>"
            ],
            "image/png": "[encoded data removed]"
          },
          "metadata": {}
        }
      ],
      "source": [
        "# Define o tamanho da figura (largura=10, altura=5)\n",
        "plt.figure(figsize=(10, 5))\n",
        "\n",
        "# Plota a curva de recompensas obtidas em cada episódio.\n",
        "# A transparência (alpha=0.3) é usada para suavizar a linha e facilitar a visualização da tendência.\n",
        "plt.plot(rewards, label=\"Recompensa por episódio\", alpha=0.3)\n",
        "\n",
        "# Plota a média das últimas 100 recompensas.\n",
        "# Essa curva suaviza a variação dos episódios individuais, facilitando ver a evolução do aprendizado.\n",
        "plt.plot(avg_rewards, label=\"Média móvel (últimos 100)\", linewidth=2)\n",
        "\n",
        "# Rótulo do eixo X\n",
        "plt.xlabel(\"Episódios\")\n",
        "\n",
        "# Rótulo do eixo Y\n",
        "plt.ylabel(\"Recompensa\")\n",
        "\n",
        "# Título do gráfico\n",
        "plt.title(\"Desempenho do Agente com Q-Learning\")\n",
        "\n",
        "# Adiciona uma legenda para identificar as duas curvas\n",
        "plt.legend()\n",
        "\n",
        "# Adiciona grade para facilitar leitura dos valores no gráfico\n",
        "plt.grid(True)\n",
        "\n",
        "# Ajusta automaticamente o layout para evitar cortes de texto\n",
        "plt.tight_layout()\n",
        "\n",
        "# Exibe o gráfico na tela\n",
        "plt.show()"
      ]
    },
    {
      "cell_type": "markdown",
      "metadata": {
        "id": "MAjx0jr_Pi77"
      },
      "source": [
        "# Visualização da politica aprendida"
      ]
    },
    {
      "cell_type": "code",
      "execution_count": 37,
      "metadata": {
        "colab": {
          "base_uri": "https://localhost:8080/"
        },
        "id": "oYzuxRwmPmA-",
        "outputId": "67d5dbea-c030-40ed-cdac-ec06a1e907ae"
      },
      "outputs": [
        {
          "output_type": "stream",
          "name": "stdout",
          "text": [
            "→ → ↓ → → → ↓ ↓ → ↓ ↓ ↓\n",
            "→ → → → → → → → → → → ↓\n",
            "→ → → → → → → → → → → ↓\n",
            "S X X X X X X X X X X G\n"
          ]
        }
      ],
      "source": [
        "# Define os símbolos que representam cada ação da política aprendida:\n",
        "# 0 = ↑ (cima), 1 = → (direita), 2 = ↓ (baixo), 3 = ← (esquerda)\n",
        "action_symbols = ['↑', '→', '↓', '←']\n",
        "\n",
        "# Cria uma matriz de strings vazias com o mesmo tamanho do grid do ambiente CliffWalking (4 linhas x 12 colunas)\n",
        "policy = np.full((4, 12), ' ')\n",
        "\n",
        "# Itera por todos os estados do ambiente (0 a 47)\n",
        "for state in range(n_states):\n",
        "    # Calcula a linha e coluna correspondentes ao estado na grade\n",
        "    row = state // 12\n",
        "    col = state % 12\n",
        "\n",
        "    # Marca os estados do penhasco com 'X' (estão entre os índices 37 e 46)\n",
        "    if state in range(37, 47):\n",
        "        policy[row, col] = 'X'  # Cliff\n",
        "\n",
        "    # Marca o estado final (objetivo) com 'G'\n",
        "    elif state == 47:\n",
        "        policy[row, col] = 'G'  # Goal\n",
        "\n",
        "    # Marca o estado inicial com 'S'\n",
        "    elif state == 36:\n",
        "        policy[row, col] = 'S'  # Start\n",
        "\n",
        "    # Para os demais estados, seleciona a melhor ação aprendida e insere o símbolo correspondente\n",
        "    else:\n",
        "        best_action = np.argmax(Q[state])               # Escolhe a ação com maior valor Q\n",
        "        policy[row, col] = action_symbols[best_action]  # Representa com símbolo de seta\n",
        "\n",
        "# Imprime a política final, linha por linha\n",
        "for row in policy:\n",
        "    print(' '.join(row))  # Une os símbolos com espaço e imprime"
      ]
    },
    {
      "cell_type": "markdown",
      "metadata": {
        "id": "X3q4_vMUPnyO"
      },
      "source": [
        "# Exibição visual (gráfica) do agente em ação"
      ]
    },
    {
      "cell_type": "code",
      "execution_count": 38,
      "metadata": {
        "colab": {
          "base_uri": "https://localhost:8080/",
          "height": 257
        },
        "id": "KAQdtYzJPwVw",
        "outputId": "6766b873-5492-4233-fedd-bec7f5e175ff"
      },
      "outputs": [
        {
          "output_type": "display_data",
          "data": {
            "image/gif": "[encoded data removed]",
            "text/plain": [
              "<IPython.core.display.Image object>"
            ]
          },
          "metadata": {}
        }
      ],
      "source": [
        "# Reinicia o ambiente e obtém o estado inicial\n",
        "state, _ = env.reset()\n",
        "\n",
        "# Define a variável de controle do episódio\n",
        "done = False\n",
        "\n",
        "# Lista que armazenará os frames (imagens) da simulação do agente\n",
        "frames = []\n",
        "\n",
        "# Executa o loop até o agente alcançar o final ou cair no penhasco\n",
        "while not done:\n",
        "    # Seleciona a melhor ação (aquela com maior valor Q) para o estado atual\n",
        "    action = np.argmax(Q[state])\n",
        "\n",
        "    # Executa a ação no ambiente e observa o próximo estado e indicadores de término\n",
        "    state, _, terminated, truncated, _ = env.step(action)\n",
        "\n",
        "    # Captura a imagem atual do ambiente e adiciona à lista de frames\n",
        "    frames.append(env.render())\n",
        "\n",
        "    # Verifica se o episódio terminou (sucesso ou falha)\n",
        "    done = terminated or truncated\n",
        "\n",
        "# Encerra o ambiente (libera os recursos gráficos)\n",
        "env.close()\n",
        "\n",
        "# Cria e salva um GIF com os frames capturados, com 0.5 segundos por frame\n",
        "imageio.mimsave(\"Walk_Cliff.gif\", frames, duration=0.5)\n",
        "\n",
        "# Exibe o GIF gerado diretamente no notebook\n",
        "display(Image(filename=\"Walk_Cliff.gif\"))   # Exibe o gif gerado"
      ]
    },
    {
      "cell_type": "markdown",
      "metadata": {
        "id": "eXlyCUXAQgV1"
      },
      "source": [
        "# Salva a tabela Q para ser reutilizada posteriormente"
      ]
    },
    {
      "cell_type": "code",
      "execution_count": 39,
      "metadata": {
        "id": "aPmGrhClQY60"
      },
      "outputs": [],
      "source": [
        "import pickle  # Importa a biblioteca pickle, usada para salvar e carregar objetos Python em arquivos\n",
        "from google.colab import files\n",
        "\n",
        "# Salva a Q-table (dicionário com os valores aprendidos) em um arquivo binário\n",
        "with open(\"q_table_CLiff.pkl\", \"wb\") as f:  # Abre (ou cria) o arquivo \"q_table_Cliff.pkl\" no modo escrita binária\n",
        "    pickle.dump(Q, f)                       # Serializa o objeto Q e grava no arquivo"
      ]
    },
    {
      "cell_type": "markdown",
      "metadata": {
        "id": "jL6u2dRpQi2Z"
      },
      "source": [
        "# Carrega uma tabela Q salva em outro treinamento"
      ]
    },
    {
      "cell_type": "code",
      "execution_count": 40,
      "metadata": {
        "colab": {
          "base_uri": "https://localhost:8080/",
          "height": 392
        },
        "id": "wM4tWieLQm21",
        "outputId": "3cb351a4-ca65-4126-95ba-8b6422fbafe4"
      },
      "outputs": [
        {
          "output_type": "display_data",
          "data": {
            "text/plain": [
              "<IPython.core.display.HTML object>"
            ],
            "text/html": [
              "\n",
              "     <input type=\"file\" id=\"files-20576331-ad63-485b-8f0f-ddb1a2bc4d18\" name=\"files[]\" multiple disabled\n",
              "        style=\"border:none\" />\n",
              "     <output id=\"result-20576331-ad63-485b-8f0f-ddb1a2bc4d18\">\n",
              "      Upload widget is only available when the cell has been executed in the\n",
              "      current browser session. Please rerun this cell to enable.\n",
              "      </output>\n",
              "      <script>// Copyright 2017 Google LLC\n",
              "//\n",
              "// Licensed under the Apache License, Version 2.0 (the \"License\");\n",
              "// you may not use this file except in compliance with the License.\n",
              "// You may obtain a copy of the License at\n",
              "//\n",
              "//      http://www.apache.org/licenses/LICENSE-2.0\n",
              "//\n",
              "// Unless required by applicable law or agreed to in writing, software\n",
              "// distributed under the License is distributed on an \"AS IS\" BASIS,\n",
              "// WITHOUT WARRANTIES OR CONDITIONS OF ANY KIND, either express or implied.\n",
              "// See the License for the specific language governing permissions and\n",
              "// limitations under the License.\n",
              "\n",
              "/**\n",
              " * @fileoverview Helpers for google.colab Python module.\n",
              " */\n",
              "(function(scope) {\n",
              "function span(text, styleAttributes = {}) {\n",
              "  const element = document.createElement('span');\n",
              "  element.textContent = text;\n",
              "  for (const key of Object.keys(styleAttributes)) {\n",
              "    element.style[key] = styleAttributes[key];\n",
              "  }\n",
              "  return element;\n",
              "}\n",
              "\n",
              "// Max number of bytes which will be uploaded at a time.\n",
              "const MAX_PAYLOAD_SIZE = 100 * 1024;\n",
              "\n",
              "function _uploadFiles(inputId, outputId) {\n",
              "  const steps = uploadFilesStep(inputId, outputId);\n",
              "  const outputElement = document.getElementById(outputId);\n",
              "  // Cache steps on the outputElement to make it available for the next call\n",
              "  // to uploadFilesContinue from Python.\n",
              "  outputElement.steps = steps;\n",
              "\n",
              "  return _uploadFilesContinue(outputId);\n",
              "}\n",
              "\n",
              "// This is roughly an async generator (not supported in the browser yet),\n",
              "// where there are multiple asynchronous steps and the Python side is going\n",
              "// to poll for completion of each step.\n",
              "// This uses a Promise to block the python side on completion of each step,\n",
              "// then passes the result of the previous step as the input to the next step.\n",
              "function _uploadFilesContinue(outputId) {\n",
              "  const outputElement = document.getElementById(outputId);\n",
              "  const steps = outputElement.steps;\n",
              "\n",
              "  const next = steps.next(outputElement.lastPromiseValue);\n",
              "  return Promise.resolve(next.value.promise).then((value) => {\n",
              "    // Cache the last promise value to make it available to the next\n",
              "    // step of the generator.\n",
              "    outputElement.lastPromiseValue = value;\n",
              "    return next.value.response;\n",
              "  });\n",
              "}\n",
              "\n",
              "/**\n",
              " * Generator function which is called between each async step of the upload\n",
              " * process.\n",
              " * @param {string} inputId Element ID of the input file picker element.\n",
              " * @param {string} outputId Element ID of the output display.\n",
              " * @return {!Iterable<!Object>} Iterable of next steps.\n",
              " */\n",
              "function* uploadFilesStep(inputId, outputId) {\n",
              "  const inputElement = document.getElementById(inputId);\n",
              "  inputElement.disabled = false;\n",
              "\n",
              "  const outputElement = document.getElementById(outputId);\n",
              "  outputElement.innerHTML = '';\n",
              "\n",
              "  const pickedPromise = new Promise((resolve) => {\n",
              "    inputElement.addEventListener('change', (e) => {\n",
              "      resolve(e.target.files);\n",
              "    });\n",
              "  });\n",
              "\n",
              "  const cancel = document.createElement('button');\n",
              "  inputElement.parentElement.appendChild(cancel);\n",
              "  cancel.textContent = 'Cancel upload';\n",
              "  const cancelPromise = new Promise((resolve) => {\n",
              "    cancel.onclick = () => {\n",
              "      resolve(null);\n",
              "    };\n",
              "  });\n",
              "\n",
              "  // Wait for the user to pick the files.\n",
              "  const files = yield {\n",
              "    promise: Promise.race([pickedPromise, cancelPromise]),\n",
              "    response: {\n",
              "      action: 'starting',\n",
              "    }\n",
              "  };\n",
              "\n",
              "  cancel.remove();\n",
              "\n",
              "  // Disable the input element since further picks are not allowed.\n",
              "  inputElement.disabled = true;\n",
              "\n",
              "  if (!files) {\n",
              "    return {\n",
              "      response: {\n",
              "        action: 'complete',\n",
              "      }\n",
              "    };\n",
              "  }\n",
              "\n",
              "  for (const file of files) {\n",
              "    const li = document.createElement('li');\n",
              "    li.append(span(file.name, {fontWeight: 'bold'}));\n",
              "    li.append(span(\n",
              "        `(${file.type || 'n/a'}) - ${file.size} bytes, ` +\n",
              "        `last modified: ${\n",
              "            file.lastModifiedDate ? file.lastModifiedDate.toLocaleDateString() :\n",
              "                                    'n/a'} - `));\n",
              "    const percent = span('0% done');\n",
              "    li.appendChild(percent);\n",
              "\n",
              "    outputElement.appendChild(li);\n",
              "\n",
              "    const fileDataPromise = new Promise((resolve) => {\n",
              "      const reader = new FileReader();\n",
              "      reader.onload = (e) => {\n",
              "        resolve(e.target.result);\n",
              "      };\n",
              "      reader.readAsArrayBuffer(file);\n",
              "    });\n",
              "    // Wait for the data to be ready.\n",
              "    let fileData = yield {\n",
              "      promise: fileDataPromise,\n",
              "      response: {\n",
              "        action: 'continue',\n",
              "      }\n",
              "    };\n",
              "\n",
              "    // Use a chunked sending to avoid message size limits. See b/62115660.\n",
              "    let position = 0;\n",
              "    do {\n",
              "      const length = Math.min(fileData.byteLength - position, MAX_PAYLOAD_SIZE);\n",
              "      const chunk = new Uint8Array(fileData, position, length);\n",
              "      position += length;\n",
              "\n",
              "      const base64 = btoa(String.fromCharCode.apply(null, chunk));\n",
              "      yield {\n",
              "        response: {\n",
              "          action: 'append',\n",
              "          file: file.name,\n",
              "          data: base64,\n",
              "        },\n",
              "      };\n",
              "\n",
              "      let percentDone = fileData.byteLength === 0 ?\n",
              "          100 :\n",
              "          Math.round((position / fileData.byteLength) * 100);\n",
              "      percent.textContent = `${percentDone}% done`;\n",
              "\n",
              "    } while (position < fileData.byteLength);\n",
              "  }\n",
              "\n",
              "  // All done.\n",
              "  yield {\n",
              "    response: {\n",
              "      action: 'complete',\n",
              "    }\n",
              "  };\n",
              "}\n",
              "\n",
              "scope.google = scope.google || {};\n",
              "scope.google.colab = scope.google.colab || {};\n",
              "scope.google.colab._files = {\n",
              "  _uploadFiles,\n",
              "  _uploadFilesContinue,\n",
              "};\n",
              "})(self);\n",
              "</script> "
            ]
          },
          "metadata": {}
        },
        {
          "output_type": "error",
          "ename": "KeyboardInterrupt",
          "evalue": "",
          "traceback": [
            "\u001b[0;31m---------------------------------------------------------------------------\u001b[0m",
            "\u001b[0;31mKeyboardInterrupt\u001b[0m                         Traceback (most recent call last)",
            "\u001b[0;32m/tmp/ipython-input-40-926225351.py\u001b[0m in \u001b[0;36m<cell line: 0>\u001b[0;34m()\u001b[0m\n\u001b[1;32m      1\u001b[0m \u001b[0;32mfrom\u001b[0m \u001b[0mgoogle\u001b[0m\u001b[0;34m.\u001b[0m\u001b[0mcolab\u001b[0m \u001b[0;32mimport\u001b[0m \u001b[0mfiles\u001b[0m                  \u001b[0;31m# Importa o módulo do Colab para upload de arquivos\u001b[0m\u001b[0;34m\u001b[0m\u001b[0;34m\u001b[0m\u001b[0m\n\u001b[0;32m----> 2\u001b[0;31m \u001b[0muploaded\u001b[0m \u001b[0;34m=\u001b[0m \u001b[0mfiles\u001b[0m\u001b[0;34m.\u001b[0m\u001b[0mupload\u001b[0m\u001b[0;34m(\u001b[0m\u001b[0;34m)\u001b[0m                       \u001b[0;31m# Abre a janela para o usuário selecionar e enviar o arquivo do computador\u001b[0m\u001b[0;34m\u001b[0m\u001b[0;34m\u001b[0m\u001b[0m\n\u001b[0m\u001b[1;32m      3\u001b[0m \u001b[0;34m\u001b[0m\u001b[0m\n\u001b[1;32m      4\u001b[0m \u001b[0;31m# Abre o arquivo de Q-table previamente salvo e carrega seu conteúdo\u001b[0m\u001b[0;34m\u001b[0m\u001b[0;34m\u001b[0m\u001b[0m\n\u001b[1;32m      5\u001b[0m \u001b[0;32mwith\u001b[0m \u001b[0mopen\u001b[0m\u001b[0;34m(\u001b[0m\u001b[0;34m\"q_table_CLiff.pkl\"\u001b[0m\u001b[0;34m,\u001b[0m \u001b[0;34m\"rb\"\u001b[0m\u001b[0;34m)\u001b[0m \u001b[0;32mas\u001b[0m \u001b[0mf\u001b[0m\u001b[0;34m:\u001b[0m      \u001b[0;31m# Abre o arquivo no modo leitura binária\u001b[0m\u001b[0;34m\u001b[0m\u001b[0;34m\u001b[0m\u001b[0m\n",
            "\u001b[0;32m/usr/local/lib/python3.11/dist-packages/google/colab/files.py\u001b[0m in \u001b[0;36mupload\u001b[0;34m(target_dir)\u001b[0m\n\u001b[1;32m     70\u001b[0m   \"\"\"\n\u001b[1;32m     71\u001b[0m \u001b[0;34m\u001b[0m\u001b[0m\n\u001b[0;32m---> 72\u001b[0;31m   \u001b[0muploaded_files\u001b[0m \u001b[0;34m=\u001b[0m \u001b[0m_upload_files\u001b[0m\u001b[0;34m(\u001b[0m\u001b[0mmultiple\u001b[0m\u001b[0;34m=\u001b[0m\u001b[0;32mTrue\u001b[0m\u001b[0;34m)\u001b[0m\u001b[0;34m\u001b[0m\u001b[0;34m\u001b[0m\u001b[0m\n\u001b[0m\u001b[1;32m     73\u001b[0m   \u001b[0;31m# Mapping from original filename to filename as saved locally.\u001b[0m\u001b[0;34m\u001b[0m\u001b[0;34m\u001b[0m\u001b[0m\n\u001b[1;32m     74\u001b[0m   \u001b[0mlocal_filenames\u001b[0m \u001b[0;34m=\u001b[0m \u001b[0mdict\u001b[0m\u001b[0;34m(\u001b[0m\u001b[0;34m)\u001b[0m\u001b[0;34m\u001b[0m\u001b[0;34m\u001b[0m\u001b[0m\n",
            "\u001b[0;32m/usr/local/lib/python3.11/dist-packages/google/colab/files.py\u001b[0m in \u001b[0;36m_upload_files\u001b[0;34m(multiple)\u001b[0m\n\u001b[1;32m    162\u001b[0m \u001b[0;34m\u001b[0m\u001b[0m\n\u001b[1;32m    163\u001b[0m   \u001b[0;31m# First result is always an indication that the file picker has completed.\u001b[0m\u001b[0;34m\u001b[0m\u001b[0;34m\u001b[0m\u001b[0m\n\u001b[0;32m--> 164\u001b[0;31m   result = _output.eval_js(\n\u001b[0m\u001b[1;32m    165\u001b[0m       'google.colab._files._uploadFiles(\"{input_id}\", \"{output_id}\")'.format(\n\u001b[1;32m    166\u001b[0m           \u001b[0minput_id\u001b[0m\u001b[0;34m=\u001b[0m\u001b[0minput_id\u001b[0m\u001b[0;34m,\u001b[0m \u001b[0moutput_id\u001b[0m\u001b[0;34m=\u001b[0m\u001b[0moutput_id\u001b[0m\u001b[0;34m\u001b[0m\u001b[0;34m\u001b[0m\u001b[0m\n",
            "\u001b[0;32m/usr/local/lib/python3.11/dist-packages/google/colab/output/_js.py\u001b[0m in \u001b[0;36meval_js\u001b[0;34m(script, ignore_result, timeout_sec)\u001b[0m\n\u001b[1;32m     38\u001b[0m   \u001b[0;32mif\u001b[0m \u001b[0mignore_result\u001b[0m\u001b[0;34m:\u001b[0m\u001b[0;34m\u001b[0m\u001b[0;34m\u001b[0m\u001b[0m\n\u001b[1;32m     39\u001b[0m     \u001b[0;32mreturn\u001b[0m\u001b[0;34m\u001b[0m\u001b[0;34m\u001b[0m\u001b[0m\n\u001b[0;32m---> 40\u001b[0;31m   \u001b[0;32mreturn\u001b[0m \u001b[0m_message\u001b[0m\u001b[0;34m.\u001b[0m\u001b[0mread_reply_from_input\u001b[0m\u001b[0;34m(\u001b[0m\u001b[0mrequest_id\u001b[0m\u001b[0;34m,\u001b[0m \u001b[0mtimeout_sec\u001b[0m\u001b[0;34m)\u001b[0m\u001b[0;34m\u001b[0m\u001b[0;34m\u001b[0m\u001b[0m\n\u001b[0m\u001b[1;32m     41\u001b[0m \u001b[0;34m\u001b[0m\u001b[0m\n\u001b[1;32m     42\u001b[0m \u001b[0;34m\u001b[0m\u001b[0m\n",
            "\u001b[0;32m/usr/local/lib/python3.11/dist-packages/google/colab/_message.py\u001b[0m in \u001b[0;36mread_reply_from_input\u001b[0;34m(message_id, timeout_sec)\u001b[0m\n\u001b[1;32m     94\u001b[0m     \u001b[0mreply\u001b[0m \u001b[0;34m=\u001b[0m \u001b[0m_read_next_input_message\u001b[0m\u001b[0;34m(\u001b[0m\u001b[0;34m)\u001b[0m\u001b[0;34m\u001b[0m\u001b[0;34m\u001b[0m\u001b[0m\n\u001b[1;32m     95\u001b[0m     \u001b[0;32mif\u001b[0m \u001b[0mreply\u001b[0m \u001b[0;34m==\u001b[0m \u001b[0m_NOT_READY\u001b[0m \u001b[0;32mor\u001b[0m \u001b[0;32mnot\u001b[0m \u001b[0misinstance\u001b[0m\u001b[0;34m(\u001b[0m\u001b[0mreply\u001b[0m\u001b[0;34m,\u001b[0m \u001b[0mdict\u001b[0m\u001b[0;34m)\u001b[0m\u001b[0;34m:\u001b[0m\u001b[0;34m\u001b[0m\u001b[0;34m\u001b[0m\u001b[0m\n\u001b[0;32m---> 96\u001b[0;31m       \u001b[0mtime\u001b[0m\u001b[0;34m.\u001b[0m\u001b[0msleep\u001b[0m\u001b[0;34m(\u001b[0m\u001b[0;36m0.025\u001b[0m\u001b[0;34m)\u001b[0m\u001b[0;34m\u001b[0m\u001b[0;34m\u001b[0m\u001b[0m\n\u001b[0m\u001b[1;32m     97\u001b[0m       \u001b[0;32mcontinue\u001b[0m\u001b[0;34m\u001b[0m\u001b[0;34m\u001b[0m\u001b[0m\n\u001b[1;32m     98\u001b[0m     if (\n",
            "\u001b[0;31mKeyboardInterrupt\u001b[0m: "
          ]
        }
      ],
      "source": [
        "from google.colab import files                  # Importa o módulo do Colab para upload de arquivos\n",
        "uploaded = files.upload()                       # Abre a janela para o usuário selecionar e enviar o arquivo do computador\n",
        "\n",
        "# Abre o arquivo de Q-table previamente salvo e carrega seu conteúdo\n",
        "with open(\"q_table_CLiff.pkl\", \"rb\") as f:      # Abre o arquivo no modo leitura binária\n",
        "    Q = pickle.load(f)                          # Carrega a Q-table salva usando pickle\n",
        "\n",
        "    # Converte a Q-table carregada para um defaultdict.\n",
        "    # Isso garante que novos estados ainda retornem vetores de zeros automaticamente.\n",
        "    Q = defaultdict(lambda: np.zeros(n_actions), Q)"
      ]
    },
    {
      "cell_type": "markdown",
      "source": [
        "# Considerações\n",
        "\n",
        "Para essa atividade optei por usar um algoritmo guloso devido a baixa complexidade de implementação. O algoritmo busca de forma aleatória qual a melhor ação a ser executada caso ela seja melhor que uma ação já conhecida.\n",
        "\n",
        "# Referências\n",
        "[O Paradigma Guloso](https://www.ime.usp.br/~pf/analise_de_algoritmos/aulas/guloso.html#:~:text=Um%20algoritmo%20guloso%20%C3%A9%20m%C3%ADope,em%20cada%20itera%C3%A7%C3%A3o%20s%C3%A3o%20definitivas.)\n",
        "[Algoritmo Guloso](https://pt.wikipedia.org/wiki/Algoritmo_guloso)"
      ],
      "metadata": {
        "id": "Iocdb2fvxl3X"
      }
    }
  ],
  "metadata": {
    "colab": {
      "provenance": [],
      "include_colab_link": true
    },
    "kernelspec": {
      "display_name": "Python 3",
      "name": "python3"
    },
    "language_info": {
      "name": "python"
    }
  },
  "nbformat": 4,
  "nbformat_minor": 0
}