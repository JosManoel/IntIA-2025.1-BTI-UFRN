{
  "nbformat": 4,
  "nbformat_minor": 0,
  "metadata": {
    "colab": {
      "provenance": [],
      "include_colab_link": true
    },
    "kernelspec": {
      "name": "python3",
      "display_name": "Python 3"
    },
    "language_info": {
      "name": "python"
    }
  },
  "cells": [
    {
      "cell_type": "markdown",
      "metadata": {
        "id": "view-in-github",
        "colab_type": "text"
      },
      "source": [
        "<a href=\"https://colab.research.google.com/github/JosManoel/IntIA-2025.1-BTI-UFRN/blob/main/Ext2_uni_3_FrozenLakeML(VA).ipynb\" target=\"_parent\"><img src=\"https://colab.research.google.com/assets/colab-badge.svg\" alt=\"Open In Colab\"/></a>"
      ]
    },
    {
      "cell_type": "markdown",
      "source": [
        "# Q-Learning no Frozen Lake Walking"
      ],
      "metadata": {
        "id": "PItmXNpQNVgD"
      }
    },
    {
      "cell_type": "code",
      "execution_count": 44,
      "metadata": {
        "id": "CggdNKbwNRNJ"
      },
      "outputs": [],
      "source": [
        "# Instalação do Gymnasium:\n",
        "# Instala o pacote 'swig', que é necessário como dependência para compilar partes nativas\n",
        "# usadas pelo ambiente Box2D (motor de física 2D utilizado no Gymnasium).\n",
        "#!pip install swig\n",
        "\n",
        "# Instala o Gymnasium com suporte para ambientes baseados em Box2D,\n",
        "# como LunarLander, BipedalWalker, etc.\n",
        "# A opção [box2d] garante que as dependências específicas do Box2D sejam instaladas.\n",
        "#!pip install gymnasium[box2d]"
      ]
    },
    {
      "cell_type": "code",
      "source": [
        "# Importação das bibliotecas e configuração:\n",
        "import gymnasium as gym                      # Importa a biblioteca Gymnasium, usada para criar e interagir com ambientes de aprendizado por reforço\n",
        "import numpy as np                           # Importa o NumPy, biblioteca fundamental para operações numéricas e matrizes\n",
        "import matplotlib.pyplot as plt              # Importa o módulo 'pyplot' da biblioteca Matplotlib, usado para gerar gráficos\n",
        "from collections import defaultdict, deque          # Importa defaultdict, que permite criar dicionários com valores padrão automaticamente\n",
        "import time                                  # Importa a biblioteca padrão de controle de tempo (usada para pausas, medir duração, etc.)\n",
        "import imageio                               # Importa a biblioteca imageio, usada para ler e salvar arquivos de imagem ou vídeo (como GIFs)\n",
        "from IPython.display import display, Image   # Importa ferramentas do IPython para exibir imagens diretamente no notebook (usado no Colab)"
      ],
      "metadata": {
        "id": "7uEtqnc4Neyz"
      },
      "execution_count": 45,
      "outputs": []
    },
    {
      "cell_type": "markdown",
      "source": [
        "# Criação do ambiente e inicialização da matriz Q"
      ],
      "metadata": {
        "id": "SIqamJWVO6Kf"
      }
    },
    {
      "cell_type": "code",
      "source": [
        "# Cria o ambiente CliffWalking-v1 com renderização no modo \"rgb_array\",\n",
        "# o que permite capturar frames como imagens (usado para criar GIFs ou vídeos)\n",
        "env = gym.make('FrozenLake-v1', desc=None, map_name=\"4x4\", is_slippery=True, render_mode=\"rgb_array\")\n",
        "\n",
        "# Obtém o número total de estados do ambiente.\n",
        "# No CliffWalking 4x12, temos 4 linhas × 12 colunas = 48 estados\n",
        "n_states = env.observation_space.n  # 48 estados (4x12 grid)\n",
        "\n",
        "# Obtém o número de ações possíveis.\n",
        "# Neste ambiente, as ações são: 0=cima, 1=direita, 2=baixo, 3=esquerda\n",
        "n_actions = env.action_space.n  # 4 ações\n",
        "\n",
        "# Função auxiliar que retorna um vetor de zeros com tamanho igual ao número de ações.\n",
        "# Usada para inicializar os valores de Q(s, a) com zero para cada ação.\n",
        "def zero_action_array():\n",
        "    return np.zeros(n_actions)\n",
        "\n",
        "# Cria a Q-table usando defaultdict.\n",
        "# Cada novo estado acessado receberá automaticamente um vetor de zeros como valor inicial.\n",
        "Q = defaultdict(zero_action_array)"
      ],
      "metadata": {
        "id": "RbnuNLxINlIc"
      },
      "execution_count": 46,
      "outputs": []
    },
    {
      "cell_type": "markdown",
      "source": [
        "# Função de treinamento:"
      ],
      "metadata": {
        "id": "rVTHOagKPC9V"
      }
    },
    {
      "cell_type": "code",
      "source": [
        "#  Função que executa o algoritmo de Q-learning em um ambiente discreto.\n",
        "#\n",
        "#  Parâmetros:\n",
        "#  - env: ambiente do Gymnasium.\n",
        "#  - Q: tabela Q (dicionário que armazena os valores Q para cada par estado-ação).\n",
        "#  - episodes: número total de episódios de treinamento.\n",
        "#  - alpha: taxa de aprendizado (o quanto o novo valor Q influencia no valor antigo).\n",
        "#  - gamma: fator de desconto (importância das recompensas futuras).\n",
        "#  - epsilon: probabilidade inicial de escolher uma ação aleatória (exploração).\n",
        "#  - epsilon_decay: taxa de redução do epsilon a cada episódio.\n",
        "#  - epsilon_min: valor mínimo de epsilon (mantém alguma exploração).\n",
        "#  - qty_show: intervalo de episódios para exibir a média de recompensas no console.\n",
        "#\n",
        "#  Retorna:\n",
        "#  - rewards: vetor com a recompensa total de cada episódio.\n",
        "#  - avg_rewards: vetor com a média das últimas 100 recompensas por episódio.\n",
        "\n",
        "def q_learning(env, Q, episodes=5000, alpha=0.1, gamma=0.99, epsilon=1.0,\n",
        "               epsilon_decay=0.995, epsilon_min=0.05, qty_show=100):\n",
        "\n",
        "    rewards = []                            # Lista que armazenará a recompensa total de cada episódio\n",
        "    avg_rewards = []                        # Lista com a média das últimas 100 recompensas\n",
        "    window = deque(maxlen=100)              # Fila circular para manter as últimas 100 recompensas\n",
        "\n",
        "    for episode in range(episodes):\n",
        "        state, _ = env.reset()              # Reinicia o ambiente e obtém o estado inicial\n",
        "        done = False                        # Variável de controle para saber quando o episódio termina\n",
        "        total_reward = 0                    # Acumula a recompensa obtida nesse episódio\n",
        "\n",
        "        while not done:\n",
        "            ##########################################################################\n",
        "            ##########################################################################\n",
        "            # Implementacao de algorimo guloso\n",
        "\n",
        "            # 1 - Escolher uma ação (exploração)\n",
        "            if np.random.rand() < epsilon:\n",
        "                action = env.action_space.sample() # Escolhe uma ação aleatória  ou\n",
        "            else:\n",
        "                action = np.argmax(Q[state])       # Escolhe a ação com maior valor Q\n",
        "\n",
        "            # 2 - Executar a ação e observar novo estado e recompensa\n",
        "            next_state, reward, terminated, truncated, _ = env.step(action)\n",
        "            done = terminated or truncated\n",
        "\n",
        "            # 3 - Atualizar a Q-table com a fórmula do Q-learning\n",
        "            best_next_action = np.argmax(Q[next_state])\n",
        "            td_target = reward + gamma * Q[next_state][best_next_action]\n",
        "            td_error = td_target - Q[state][action]\n",
        "            Q[state][action] += alpha * td_error\n",
        "\n",
        "            total_reward += reward          # Acumula a recompensa obtida neste passo\n",
        "            state = next_state              # Atualiza o estado para o próximo passo\n",
        "            ##########################################################################\n",
        "            ##########################################################################\n",
        "\n",
        "        # Aplica o decaimento do epsilon após cada episódio, mas mantém um mínimo\n",
        "        if epsilon > epsilon_min:\n",
        "            epsilon *= epsilon_decay\n",
        "\n",
        "        rewards.append(total_reward)        # Armazena a recompensa total desse episódio\n",
        "        window.append(total_reward)         # Adiciona na janela das últimas 100 recompensas\n",
        "        avg_rewards.append(np.mean(window)) # Calcula e armazena a média móvel\n",
        "\n",
        "        # Exibe a média das últimas 100 recompensas a cada 'qty_show' episódios\n",
        "        if episode % qty_show == 0:\n",
        "            print(f\"Episódio {episode}, média últimas 100: {np.mean(rewards[-100:]):.2f}\")\n",
        "\n",
        "    return rewards, avg_rewards             # Retorna os dados de desempenho do agente"
      ],
      "metadata": {
        "id": "_DQsR7_ePCaw"
      },
      "execution_count": 47,
      "outputs": []
    },
    {
      "cell_type": "markdown",
      "source": [
        "# Treinamento e Plotagem da recompensa:"
      ],
      "metadata": {
        "id": "_6S7cMUnPM71"
      }
    },
    {
      "cell_type": "code",
      "source": [
        "rewards, avg_rewards = q_learning(env, Q, episodes= 100000, qty_show=1000)      # Treina o agente"
      ],
      "metadata": {
        "id": "gc7_ZxMwOCI4",
        "colab": {
          "base_uri": "https://localhost:8080/"
        },
        "outputId": "8e4d72f3-7086-4489-f8dc-3137d3360885"
      },
      "execution_count": 48,
      "outputs": [
        {
          "output_type": "stream",
          "name": "stdout",
          "text": [
            "Episódio 0, média últimas 100: 0.00\n",
            "Episódio 1000, média últimas 100: 0.19\n",
            "Episódio 2000, média últimas 100: 0.49\n",
            "Episódio 3000, média últimas 100: 0.54\n",
            "Episódio 4000, média últimas 100: 0.57\n",
            "Episódio 5000, média últimas 100: 0.53\n",
            "Episódio 6000, média últimas 100: 0.50\n",
            "Episódio 7000, média últimas 100: 0.57\n",
            "Episódio 8000, média últimas 100: 0.48\n",
            "Episódio 9000, média últimas 100: 0.55\n",
            "Episódio 10000, média últimas 100: 0.55\n",
            "Episódio 11000, média últimas 100: 0.59\n",
            "Episódio 12000, média últimas 100: 0.47\n",
            "Episódio 13000, média últimas 100: 0.46\n",
            "Episódio 14000, média últimas 100: 0.51\n",
            "Episódio 15000, média últimas 100: 0.55\n",
            "Episódio 16000, média últimas 100: 0.51\n",
            "Episódio 17000, média últimas 100: 0.55\n",
            "Episódio 18000, média últimas 100: 0.52\n",
            "Episódio 19000, média últimas 100: 0.57\n",
            "Episódio 20000, média últimas 100: 0.54\n",
            "Episódio 21000, média últimas 100: 0.42\n",
            "Episódio 22000, média últimas 100: 0.54\n",
            "Episódio 23000, média últimas 100: 0.44\n",
            "Episódio 24000, média últimas 100: 0.59\n",
            "Episódio 25000, média últimas 100: 0.51\n",
            "Episódio 26000, média últimas 100: 0.48\n",
            "Episódio 27000, média últimas 100: 0.49\n",
            "Episódio 28000, média últimas 100: 0.55\n",
            "Episódio 29000, média últimas 100: 0.52\n",
            "Episódio 30000, média últimas 100: 0.47\n",
            "Episódio 31000, média últimas 100: 0.55\n",
            "Episódio 32000, média últimas 100: 0.50\n",
            "Episódio 33000, média últimas 100: 0.48\n",
            "Episódio 34000, média últimas 100: 0.60\n",
            "Episódio 35000, média últimas 100: 0.61\n",
            "Episódio 36000, média últimas 100: 0.48\n",
            "Episódio 37000, média últimas 100: 0.60\n",
            "Episódio 38000, média últimas 100: 0.60\n",
            "Episódio 39000, média últimas 100: 0.48\n",
            "Episódio 40000, média últimas 100: 0.47\n",
            "Episódio 41000, média últimas 100: 0.52\n",
            "Episódio 42000, média últimas 100: 0.51\n",
            "Episódio 43000, média últimas 100: 0.45\n",
            "Episódio 44000, média últimas 100: 0.55\n",
            "Episódio 45000, média últimas 100: 0.49\n",
            "Episódio 46000, média últimas 100: 0.58\n",
            "Episódio 47000, média últimas 100: 0.51\n",
            "Episódio 48000, média últimas 100: 0.67\n",
            "Episódio 49000, média últimas 100: 0.50\n",
            "Episódio 50000, média últimas 100: 0.57\n",
            "Episódio 51000, média últimas 100: 0.56\n",
            "Episódio 52000, média últimas 100: 0.59\n",
            "Episódio 53000, média últimas 100: 0.51\n",
            "Episódio 54000, média últimas 100: 0.52\n",
            "Episódio 55000, média últimas 100: 0.48\n",
            "Episódio 56000, média últimas 100: 0.43\n",
            "Episódio 57000, média últimas 100: 0.61\n",
            "Episódio 58000, média últimas 100: 0.45\n",
            "Episódio 59000, média últimas 100: 0.59\n",
            "Episódio 60000, média últimas 100: 0.60\n",
            "Episódio 61000, média últimas 100: 0.55\n",
            "Episódio 62000, média últimas 100: 0.53\n",
            "Episódio 63000, média últimas 100: 0.57\n",
            "Episódio 64000, média últimas 100: 0.54\n",
            "Episódio 65000, média últimas 100: 0.48\n",
            "Episódio 66000, média últimas 100: 0.60\n",
            "Episódio 67000, média últimas 100: 0.43\n",
            "Episódio 68000, média últimas 100: 0.51\n",
            "Episódio 69000, média últimas 100: 0.57\n",
            "Episódio 70000, média últimas 100: 0.49\n",
            "Episódio 71000, média últimas 100: 0.58\n",
            "Episódio 72000, média últimas 100: 0.51\n",
            "Episódio 73000, média últimas 100: 0.54\n",
            "Episódio 74000, média últimas 100: 0.50\n",
            "Episódio 75000, média últimas 100: 0.52\n",
            "Episódio 76000, média últimas 100: 0.58\n",
            "Episódio 77000, média últimas 100: 0.54\n",
            "Episódio 78000, média últimas 100: 0.67\n",
            "Episódio 79000, média últimas 100: 0.57\n",
            "Episódio 80000, média últimas 100: 0.53\n",
            "Episódio 81000, média últimas 100: 0.50\n",
            "Episódio 82000, média últimas 100: 0.56\n",
            "Episódio 83000, média últimas 100: 0.52\n",
            "Episódio 84000, média últimas 100: 0.56\n",
            "Episódio 85000, média últimas 100: 0.48\n",
            "Episódio 86000, média últimas 100: 0.51\n",
            "Episódio 87000, média últimas 100: 0.47\n",
            "Episódio 88000, média últimas 100: 0.51\n",
            "Episódio 89000, média últimas 100: 0.59\n",
            "Episódio 90000, média últimas 100: 0.56\n",
            "Episódio 91000, média últimas 100: 0.55\n",
            "Episódio 92000, média últimas 100: 0.42\n",
            "Episódio 93000, média últimas 100: 0.47\n",
            "Episódio 94000, média últimas 100: 0.43\n",
            "Episódio 95000, média últimas 100: 0.50\n",
            "Episódio 96000, média últimas 100: 0.60\n",
            "Episódio 97000, média últimas 100: 0.53\n",
            "Episódio 98000, média últimas 100: 0.49\n",
            "Episódio 99000, média últimas 100: 0.50\n"
          ]
        }
      ]
    },
    {
      "cell_type": "code",
      "source": [
        "# Define o tamanho da figura (largura=10, altura=5)\n",
        "plt.figure(figsize=(10, 5))\n",
        "\n",
        "# Plota a curva de recompensas obtidas em cada episódio.\n",
        "# A transparência (alpha=0.3) é usada para suavizar a linha e facilitar a visualização da tendência.\n",
        "plt.plot(rewards, label=\"Recompensa por episódio\", alpha=0.3)\n",
        "\n",
        "# Plota a média das últimas 100 recompensas.\n",
        "# Essa curva suaviza a variação dos episódios individuais, facilitando ver a evolução do aprendizado.\n",
        "plt.plot(avg_rewards, label=\"Média móvel (últimos 100)\", linewidth=2)\n",
        "\n",
        "# Rótulo do eixo X\n",
        "plt.xlabel(\"Episódios\")\n",
        "\n",
        "# Rótulo do eixo Y\n",
        "plt.ylabel(\"Recompensa\")\n",
        "\n",
        "# Título do gráfico\n",
        "plt.title(\"Desempenho do Agente com Q-Learning\")\n",
        "\n",
        "# Adiciona uma legenda para identificar as duas curvas\n",
        "plt.legend()\n",
        "\n",
        "# Adiciona grade para facilitar leitura dos valores no gráfico\n",
        "plt.grid(True)\n",
        "\n",
        "# Ajusta automaticamente o layout para evitar cortes de texto\n",
        "plt.tight_layout()\n",
        "\n",
        "# Exibe o gráfico na tela\n",
        "plt.show()"
      ],
      "metadata": {
        "id": "ER_esz5ceISI",
        "colab": {
          "base_uri": "https://localhost:8080/",
          "height": 507
        },
        "outputId": "a33b6695-31a9-4ae2-f911-34af4c4d9508"
      },
      "execution_count": 49,
      "outputs": [
        {
          "output_type": "display_data",
          "data": {
            "text/plain": [
              "<Figure size 1000x500 with 1 Axes>"
            ],
            "image/png": "[encoded data removed]"
          },
          "metadata": {}
        }
      ]
    },
    {
      "cell_type": "markdown",
      "source": [
        "# Visualização da politica aprendida"
      ],
      "metadata": {
        "id": "MAjx0jr_Pi77"
      }
    },
    {
      "cell_type": "code",
      "source": [
        "# Define os símbolos que representam cada ação da política aprendida:\n",
        "# 0 = ← (esquerda), 1 = ↓ (baixo), 2 = → (direita), 3 = ↑ (cima)\n",
        "action_symbols = ['←', '↓', '→', '↑']\n",
        "\n",
        "# Cria uma matriz de strings vazias com o mesmo tamanho do grid do ambiente Frozen Lake (4 linhas x 4 colunas)\n",
        "policy = np.full((4, 4), ' ')\n",
        "\n",
        "# Itera por todos os estados do ambiente (0 a 15)\n",
        "for state in range(n_states):\n",
        "    # Calcula a linha e coluna correspondentes ao estado na grade\n",
        "    row = state // 4\n",
        "    col = state % 4\n",
        "\n",
        "    # Marca o estado inicial com 'S'\n",
        "    if state == 0:\n",
        "        policy[row, col] = 'S'  # Start\n",
        "\n",
        "    # Marca o estado final (objetivo) com 'G'\n",
        "    elif state == 15:\n",
        "        policy[row, col] = 'G'  # Goal\n",
        "\n",
        "    # Para os demais estados, seleciona a melhor ação aprendida e insere o símbolo correspondente\n",
        "    else:\n",
        "        best_action = np.argmax(Q[state])               # Escolhe a ação com maior valor Q\n",
        "        policy[row, col] = action_symbols[best_action]  # Representa com símbolo de seta\n",
        "\n",
        "# Imprime a política final, linha por linha\n",
        "for row in policy:\n",
        "    print(' '.join(row))  # Une os símbolos com espaço e imprime"
      ],
      "metadata": {
        "id": "oYzuxRwmPmA-",
        "colab": {
          "base_uri": "https://localhost:8080/"
        },
        "outputId": "251b5bbd-e9f9-4312-b21b-fccb26bc215d"
      },
      "execution_count": 50,
      "outputs": [
        {
          "output_type": "stream",
          "name": "stdout",
          "text": [
            "S ↑ ↑ ↑\n",
            "← ← → ←\n",
            "↑ ↓ ← ←\n",
            "← → ↓ G\n"
          ]
        }
      ]
    },
    {
      "cell_type": "markdown",
      "source": [
        "# Exibição visual (gráfica) do agente em ação"
      ],
      "metadata": {
        "id": "X3q4_vMUPnyO"
      }
    },
    {
      "cell_type": "code",
      "source": [
        "# Reinicia o ambiente e obtém o estado inicial\n",
        "state, _ = env.reset()\n",
        "\n",
        "# Define a variável de controle do episódio\n",
        "done = False\n",
        "\n",
        "# Lista que armazenará os frames (imagens) da simulação do agente\n",
        "frames = []\n",
        "\n",
        "# Executa o loop até o agente alcançar o final ou cair no penhasco\n",
        "while not done:\n",
        "    # Seleciona a melhor ação (aquela com maior valor Q) para o estado atual\n",
        "    action = np.argmax(Q[state])\n",
        "\n",
        "    # Executa a ação no ambiente e observa o próximo estado e indicadores de término\n",
        "    state, _, terminated, truncated, _ = env.step(action)\n",
        "\n",
        "    # Captura a imagem atual do ambiente e adiciona à lista de frames\n",
        "    frames.append(env.render())\n",
        "\n",
        "    # Verifica se o episódio terminou (sucesso ou falha)\n",
        "    done = terminated or truncated\n",
        "\n",
        "# Encerra o ambiente (libera os recursos gráficos)\n",
        "env.close()\n",
        "\n",
        "# Cria e salva um GIF com os frames capturados, com 0.5 segundos por frame\n",
        "imageio.mimsave(\"Walk_Frozen.gif\", frames, duration=0.5)\n",
        "\n",
        "# Exibe o GIF gerado diretamente no notebook\n",
        "display(Image(filename=\"Walk_Frozen.gif\"))   # Exibe o gif gerado"
      ],
      "metadata": {
        "id": "KAQdtYzJPwVw",
        "colab": {
          "base_uri": "https://localhost:8080/",
          "height": 273
        },
        "outputId": "94bf539c-3cab-4dce-d3e6-2aff9e6e637d"
      },
      "execution_count": 51,
      "outputs": [
        {
          "output_type": "display_data",
          "data": {
            "image/gif": "[encoded data removed]",
            "text/plain": [
              "<IPython.core.display.Image object>"
            ]
          },
          "metadata": {}
        }
      ]
    },
    {
      "cell_type": "markdown",
      "source": [
        "# Salva a tabela Q para ser reutilizada posteriormente"
      ],
      "metadata": {
        "id": "eXlyCUXAQgV1"
      }
    },
    {
      "cell_type": "code",
      "source": [
        "import pickle  # Importa a biblioteca pickle, usada para salvar e carregar objetos Python em arquivos\n",
        "\n",
        "# Salva a Q-table (dicionário com os valores aprendidos) em um arquivo binário\n",
        "with open(\"q_table_Frozen.pkl\", \"wb\") as f: # Abre (ou cria) o arquivo \"q_table_Cliff.pkl\" no modo escrita binária\n",
        "    pickle.dump(Q, f)                       # Serializa o objeto Q e grava no arquivo"
      ],
      "metadata": {
        "id": "aPmGrhClQY60"
      },
      "execution_count": 52,
      "outputs": []
    },
    {
      "cell_type": "markdown",
      "source": [
        "# Carrega uma tabela Q salva em outro treinamento"
      ],
      "metadata": {
        "id": "jL6u2dRpQi2Z"
      }
    },
    {
      "cell_type": "code",
      "source": [
        "from google.colab import files                  # Importa o módulo do Colab para upload de arquivos\n",
        "uploaded = files.upload()                       # Abre a janela para o usuário selecionar e enviar o arquivo do computador\n",
        "\n",
        "# Abre o arquivo de Q-table previamente salvo e carrega seu conteúdo\n",
        "with open(\"q_table_Frozen.pkl\", \"rb\") as f:     # Abre o arquivo no modo leitura binária\n",
        "    Q = pickle.load(f)                          # Carrega a Q-table salva usando pickle\n",
        "\n",
        "    # Converte a Q-table carregada para um defaultdict.\n",
        "    # Isso garante que novos estados ainda retornem vetores de zeros automaticamente.\n",
        "    Q = defaultdict(lambda: np.zeros(n_actions), Q)"
      ],
      "metadata": {
        "id": "wM4tWieLQm21",
        "colab": {
          "base_uri": "https://localhost:8080/",
          "height": 36
        },
        "outputId": "7c21ad52-958c-4b47-bd45-6cfe17e5590d"
      },
      "execution_count": null,
      "outputs": [
        {
          "output_type": "display_data",
          "data": {
            "text/plain": [
              "<IPython.core.display.HTML object>"
            ],
            "text/html": [
              "\n",
              "     <input type=\"file\" id=\"files-e373bad2-bf69-4190-8ef6-44af6e9ac76b\" name=\"files[]\" multiple disabled\n",
              "        style=\"border:none\" />\n",
              "     <output id=\"result-e373bad2-bf69-4190-8ef6-44af6e9ac76b\">\n",
              "      Upload widget is only available when the cell has been executed in the\n",
              "      current browser session. Please rerun this cell to enable.\n",
              "      </output>\n",
              "      <script>// Copyright 2017 Google LLC\n",
              "//\n",
              "// Licensed under the Apache License, Version 2.0 (the \"License\");\n",
              "// you may not use this file except in compliance with the License.\n",
              "// You may obtain a copy of the License at\n",
              "//\n",
              "//      http://www.apache.org/licenses/LICENSE-2.0\n",
              "//\n",
              "// Unless required by applicable law or agreed to in writing, software\n",
              "// distributed under the License is distributed on an \"AS IS\" BASIS,\n",
              "// WITHOUT WARRANTIES OR CONDITIONS OF ANY KIND, either express or implied.\n",
              "// See the License for the specific language governing permissions and\n",
              "// limitations under the License.\n",
              "\n",
              "/**\n",
              " * @fileoverview Helpers for google.colab Python module.\n",
              " */\n",
              "(function(scope) {\n",
              "function span(text, styleAttributes = {}) {\n",
              "  const element = document.createElement('span');\n",
              "  element.textContent = text;\n",
              "  for (const key of Object.keys(styleAttributes)) {\n",
              "    element.style[key] = styleAttributes[key];\n",
              "  }\n",
              "  return element;\n",
              "}\n",
              "\n",
              "// Max number of bytes which will be uploaded at a time.\n",
              "const MAX_PAYLOAD_SIZE = 100 * 1024;\n",
              "\n",
              "function _uploadFiles(inputId, outputId) {\n",
              "  const steps = uploadFilesStep(inputId, outputId);\n",
              "  const outputElement = document.getElementById(outputId);\n",
              "  // Cache steps on the outputElement to make it available for the next call\n",
              "  // to uploadFilesContinue from Python.\n",
              "  outputElement.steps = steps;\n",
              "\n",
              "  return _uploadFilesContinue(outputId);\n",
              "}\n",
              "\n",
              "// This is roughly an async generator (not supported in the browser yet),\n",
              "// where there are multiple asynchronous steps and the Python side is going\n",
              "// to poll for completion of each step.\n",
              "// This uses a Promise to block the python side on completion of each step,\n",
              "// then passes the result of the previous step as the input to the next step.\n",
              "function _uploadFilesContinue(outputId) {\n",
              "  const outputElement = document.getElementById(outputId);\n",
              "  const steps = outputElement.steps;\n",
              "\n",
              "  const next = steps.next(outputElement.lastPromiseValue);\n",
              "  return Promise.resolve(next.value.promise).then((value) => {\n",
              "    // Cache the last promise value to make it available to the next\n",
              "    // step of the generator.\n",
              "    outputElement.lastPromiseValue = value;\n",
              "    return next.value.response;\n",
              "  });\n",
              "}\n",
              "\n",
              "/**\n",
              " * Generator function which is called between each async step of the upload\n",
              " * process.\n",
              " * @param {string} inputId Element ID of the input file picker element.\n",
              " * @param {string} outputId Element ID of the output display.\n",
              " * @return {!Iterable<!Object>} Iterable of next steps.\n",
              " */\n",
              "function* uploadFilesStep(inputId, outputId) {\n",
              "  const inputElement = document.getElementById(inputId);\n",
              "  inputElement.disabled = false;\n",
              "\n",
              "  const outputElement = document.getElementById(outputId);\n",
              "  outputElement.innerHTML = '';\n",
              "\n",
              "  const pickedPromise = new Promise((resolve) => {\n",
              "    inputElement.addEventListener('change', (e) => {\n",
              "      resolve(e.target.files);\n",
              "    });\n",
              "  });\n",
              "\n",
              "  const cancel = document.createElement('button');\n",
              "  inputElement.parentElement.appendChild(cancel);\n",
              "  cancel.textContent = 'Cancel upload';\n",
              "  const cancelPromise = new Promise((resolve) => {\n",
              "    cancel.onclick = () => {\n",
              "      resolve(null);\n",
              "    };\n",
              "  });\n",
              "\n",
              "  // Wait for the user to pick the files.\n",
              "  const files = yield {\n",
              "    promise: Promise.race([pickedPromise, cancelPromise]),\n",
              "    response: {\n",
              "      action: 'starting',\n",
              "    }\n",
              "  };\n",
              "\n",
              "  cancel.remove();\n",
              "\n",
              "  // Disable the input element since further picks are not allowed.\n",
              "  inputElement.disabled = true;\n",
              "\n",
              "  if (!files) {\n",
              "    return {\n",
              "      response: {\n",
              "        action: 'complete',\n",
              "      }\n",
              "    };\n",
              "  }\n",
              "\n",
              "  for (const file of files) {\n",
              "    const li = document.createElement('li');\n",
              "    li.append(span(file.name, {fontWeight: 'bold'}));\n",
              "    li.append(span(\n",
              "        `(${file.type || 'n/a'}) - ${file.size} bytes, ` +\n",
              "        `last modified: ${\n",
              "            file.lastModifiedDate ? file.lastModifiedDate.toLocaleDateString() :\n",
              "                                    'n/a'} - `));\n",
              "    const percent = span('0% done');\n",
              "    li.appendChild(percent);\n",
              "\n",
              "    outputElement.appendChild(li);\n",
              "\n",
              "    const fileDataPromise = new Promise((resolve) => {\n",
              "      const reader = new FileReader();\n",
              "      reader.onload = (e) => {\n",
              "        resolve(e.target.result);\n",
              "      };\n",
              "      reader.readAsArrayBuffer(file);\n",
              "    });\n",
              "    // Wait for the data to be ready.\n",
              "    let fileData = yield {\n",
              "      promise: fileDataPromise,\n",
              "      response: {\n",
              "        action: 'continue',\n",
              "      }\n",
              "    };\n",
              "\n",
              "    // Use a chunked sending to avoid message size limits. See b/62115660.\n",
              "    let position = 0;\n",
              "    do {\n",
              "      const length = Math.min(fileData.byteLength - position, MAX_PAYLOAD_SIZE);\n",
              "      const chunk = new Uint8Array(fileData, position, length);\n",
              "      position += length;\n",
              "\n",
              "      const base64 = btoa(String.fromCharCode.apply(null, chunk));\n",
              "      yield {\n",
              "        response: {\n",
              "          action: 'append',\n",
              "          file: file.name,\n",
              "          data: base64,\n",
              "        },\n",
              "      };\n",
              "\n",
              "      let percentDone = fileData.byteLength === 0 ?\n",
              "          100 :\n",
              "          Math.round((position / fileData.byteLength) * 100);\n",
              "      percent.textContent = `${percentDone}% done`;\n",
              "\n",
              "    } while (position < fileData.byteLength);\n",
              "  }\n",
              "\n",
              "  // All done.\n",
              "  yield {\n",
              "    response: {\n",
              "      action: 'complete',\n",
              "    }\n",
              "  };\n",
              "}\n",
              "\n",
              "scope.google = scope.google || {};\n",
              "scope.google.colab = scope.google.colab || {};\n",
              "scope.google.colab._files = {\n",
              "  _uploadFiles,\n",
              "  _uploadFilesContinue,\n",
              "};\n",
              "})(self);\n",
              "</script> "
            ]
          },
          "metadata": {}
        }
      ]
    },
    {
      "cell_type": "markdown",
      "source": [
        "# Considerações\n",
        "\n",
        "Para essa atividade optei por usar um algoritmo gulosodevido a baixa complexidade de implementação. O algoritmo busca de forma aleatória qual a melhor ação a ser executada caso ela seja melhor que uma ação já conhecida.\n",
        "\n",
        "# Referências\n",
        "[O Paradigma Guloso](https://www.ime.usp.br/~pf/analise_de_algoritmos/aulas/guloso.html#:~:text=Um%20algoritmo%20guloso%20%C3%A9%20m%C3%ADope,em%20cada%20itera%C3%A7%C3%A3o%20s%C3%A3o%20definitivas.)\n",
        "[Algoritmo Guloso](https://pt.wikipedia.org/wiki/Algoritmo_guloso)"
      ],
      "metadata": {
        "id": "54r9fqdJAbW7"
      }
    }
  ]
}